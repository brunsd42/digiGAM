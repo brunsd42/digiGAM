{
 "cells": [
  {
   "cell_type": "code",
   "execution_count": 1,
   "id": "ce3ec1ff-d6d7-423d-a608-3292a1af16ec",
   "metadata": {},
   "outputs": [],
   "source": [
    "from datetime import datetime\n",
    "import pandas as pd\n",
    "pd.set_option('display.max_colwidth', None)\n",
    "\n",
    "\n",
    "import requests\n",
    "from requests.adapters import HTTPAdapter\n",
    "from requests.packages.urllib3.util.retry import Retry\n",
    "\n",
    "import urllib.parse\n",
    "import json\n",
    "\n",
    "import os\n",
    "from tqdm import tqdm"
   ]
  },
  {
   "cell_type": "markdown",
   "id": "3a407050-0065-4280-be40-9462e51d5370",
   "metadata": {},
   "source": [
    "## import helper"
   ]
  },
  {
   "cell_type": "code",
   "execution_count": 2,
   "id": "3641501c-3572-4ed6-872c-b7d5d458b7c3",
   "metadata": {},
   "outputs": [],
   "source": [
    "from config_GAM2025 import gam_info\n",
    "from security_config import api_key\n",
    "\n",
    "import test_functions\n",
    "import functions"
   ]
  },
  {
   "cell_type": "code",
   "execution_count": 3,
   "id": "1f76d218-6fac-421f-b9a1-3efa13cedbf9",
   "metadata": {},
   "outputs": [],
   "source": [
    "# country\n",
    "country_codes = pd.read_excel(f\"../../{gam_info['lookup_file']}\", sheet_name='CountryID')\n",
    "country_codes = country_codes.rename(columns={'ATI': 'geo_country'})\n",
    "\n",
    "# week \n",
    "week_tester = pd.read_excel(f\"../../{gam_info['lookup_file']}\", sheet_name='GAM Period')\n",
    "#week_tester['w/c'] = pd.to_datetime(week_tester['w/c'])\n",
    "\n",
    "# site info - with api query\n",
    "site_info = pd.read_excel(f\"../../{gam_info['lookup_file']}\", sheet_name='Site_API').drop(columns='no results')\n",
    "site_info['Report No.'] = site_info['Report No.'].astype(str)\n",
    "site_info = site_info[site_info['script'] == '1_site_ingestion']\n",
    "\n",
    "# platform codes\n",
    "platform_codes = pd.read_excel(f\"../../{gam_info['lookup_file']}\", sheet_name='PlatformID')#[cols]\n",
    "\n",
    "# service codes\n",
    "service_codes = pd.read_excel(f\"../../{gam_info['lookup_file']}\", sheet_name='ServiceID')#[cols]\n",
    "service_codes = service_codes.rename(columns={'ATI (Level 2 site)': 'site_level2'})\n",
    "\n",
    "# language service map \n",
    "service_language_map = pd.read_excel(f\"../../{gam_info['lookup_file']}\", sheet_name='Site_language')\n",
    "\n",
    "# non js \n",
    "non_js_map = pd.read_excel(f\"../../{gam_info['lookup_file']}\", sheet_name='Site_NonJS')\n",
    "\n",
    "# app\n",
    "app_map = pd.read_excel(f\"../../{gam_info['lookup_file']}\", sheet_name='Site_App')\n"
   ]
  },
  {
   "cell_type": "markdown",
   "id": "bd2592d9-0b0f-4332-a01c-373437c29fc5",
   "metadata": {},
   "source": [
    "## functions"
   ]
  },
  {
   "cell_type": "markdown",
   "id": "7ad13183-008b-4ae7-9507-5640caf9cdef",
   "metadata": {},
   "source": [
    "# ingestion\n",
    "## Chartbeat\n"
   ]
  },
  {
   "cell_type": "code",
   "execution_count": null,
   "id": "6635143d-d25c-48ef-8df1-3a4bfb57d04d",
   "metadata": {},
   "outputs": [],
   "source": []
  },
  {
   "cell_type": "markdown",
   "id": "31c8e58c-8611-4c75-95c0-dfa09c3b10a5",
   "metadata": {},
   "source": [
    "## Piano"
   ]
  },
  {
   "cell_type": "code",
   "execution_count": 4,
   "id": "61c99cdc-a63c-4fd0-9373-ee4398bb402c",
   "metadata": {},
   "outputs": [
    {
     "name": "stdout",
     "output_type": "stream",
     "text": [
      "Pass - All numbers in the column 'Report No.' are unique.\n",
      "...updating logbook...\n",
      "\n"
     ]
    }
   ],
   "source": [
    "\n",
    "test_functions.site_test_unique_entries(site_info, 'Report No.', '1_Site_1', 'initial api query list')"
   ]
  },
  {
   "cell_type": "code",
   "execution_count": 5,
   "id": "5203febf-2b8d-485a-b14d-ef9884c75b37",
   "metadata": {
    "scrolled": true
   },
   "outputs": [
    {
     "name": "stdout",
     "output_type": "stream",
     "text": [
      "starting report no 12\n",
      "https://api.atinternet.io/v3/data/getData?param={\"columns\":[\"geo_country\",\"m_unique_visitors\"],\"sort\":[\"-m_unique_visitors\"],\"space\":{\"s\":[598340,598342,598346]},\"period\":{\"p1\":[{\"type\":\"D\",\"start\":\"START_DATE\",\"end\":\"END_DATE\"}]},\"max-results\":10000,\"page-num\":1}\n",
      "finished report no 12\n",
      "starting report no 13\n",
      "https://api.atinternet.io/v3/data/getData?param={\"columns\":[\"geo_country\",\"device_type\",\"m_unique_visitors\"],\"sort\":[\"-m_unique_visitors\"],\"space\":{\"s\":[598340,598342,598346]},\"period\":{\"p1\":[{\"type\":\"D\",\"start\":\"START_DATE\",\"end\":\"END_DATE\"}]},\"max-results\":10000,\"page-num\":1}\n",
      "finished report no 13\n",
      "starting report no 14\n",
      "https://api.atinternet.io/v3/data/getData?param={\"columns\":[\"geo_country\",\"m_unique_visitors\"],\"sort\":[\"-m_unique_visitors\"],\"space\":{\"s\":[598340,598342]},\"period\":{\"p1\":[{\"type\":\"D\",\"start\":\"START_DATE\",\"end\":\"END_DATE\"}]},\"max-results\":10000,\"page-num\":1}\n",
      "finished report no 14\n",
      "starting report no 15\n",
      "https://api.atinternet.io/v3/data/getData?param={\"columns\":[\"geo_country\",\"device_type\",\"m_unique_visitors\"],\"sort\":[\"-m_unique_visitors\"],\"space\":{\"s\":[598340,598342]},\"period\":{\"p1\":[{\"type\":\"D\",\"start\":\"START_DATE\",\"end\":\"END_DATE\"}]},\"max-results\":10000,\"page-num\":1}\n",
      "finished report no 15\n",
      "starting report no 16\n",
      "https://api.atinternet.io/v3/data/getData?param={\"columns\":[\"geo_country\",\"m_unique_visitors\"],\"sort\":[\"-m_unique_visitors\"],\"space\":{\"s\":[598346]},\"period\":{\"p1\":[{\"type\":\"D\",\"start\":\"START_DATE\",\"end\":\"END_DATE\"}]},\"max-results\":10000,\"page-num\":1}\n",
      "finished report no 16\n",
      "starting report no 17\n",
      "https://api.atinternet.io/v3/data/getData?param={\"columns\":[\"geo_country\",\"device_type\",\"m_unique_visitors\"],\"sort\":[\"-m_unique_visitors\"],\"space\":{\"s\":[598346]},\"period\":{\"p1\":[{\"type\":\"D\",\"start\":\"START_DATE\",\"end\":\"END_DATE\"}]},\"max-results\":10000,\"page-num\":1}\n",
      "finished report no 17\n",
      "starting report no 18\n",
      "https://api.atinternet.io/v3/data/getData?param={\"columns\":[\"site_level2\",\"geo_country\",\"m_unique_visitors\"],\"sort\":[\"-m_unique_visitors\"],\"space\":{\"s\":[598340,598342,598346]},\"period\":{\"p1\":[{\"type\":\"D\",\"start\":\"START_DATE\",\"end\":\"END_DATE\"}]},\"max-results\":10000,\"page-num\":1}\n",
      "finished report no 18\n",
      "starting report no 19\n",
      "https://api.atinternet.io/v3/data/getData?param={\"columns\":[\"site_level2\",\"geo_country\",\"device_type\",\"m_unique_visitors\"],\"sort\":[\"-m_unique_visitors\"],\"space\":{\"s\":[598340,598342,598346]},\"period\":{\"p1\":[{\"type\":\"D\",\"start\":\"START_DATE\",\"end\":\"END_DATE\"}]},\"max-results\":10000,\"page-num\":1}\n",
      "finished report no 19\n",
      "starting report no 20\n",
      "https://api.atinternet.io/v3/data/getData?param={\"columns\":[\"site_level2\",\"geo_country\",\"m_unique_visitors\"],\"sort\":[\"-m_unique_visitors\"],\"space\":{\"s\":[598340,598342]},\"period\":{\"p1\":[{\"type\":\"D\",\"start\":\"START_DATE\",\"end\":\"END_DATE\"}]},\"max-results\":10000,\"page-num\":1}\n",
      "finished report no 20\n",
      "starting report no 21\n",
      "https://api.atinternet.io/v3/data/getData?param={\"columns\":[\"site_level2\",\"geo_country\",\"device_type\",\"m_unique_visitors\"],\"sort\":[\"-m_unique_visitors\"],\"space\":{\"s\":[598340,598342]},\"period\":{\"p1\":[{\"type\":\"D\",\"start\":\"START_DATE\",\"end\":\"END_DATE\"}]},\"max-results\":10000,\"page-num\":1}\n",
      "finished report no 21\n",
      "starting report no 22\n",
      "https://api.atinternet.io/v3/data/getData?param={\"columns\":[\"site_level2\",\"geo_country\",\"m_unique_visitors\"],\"sort\":[\"-m_unique_visitors\"],\"space\":{\"s\":[598346]},\"period\":{\"p1\":[{\"type\":\"D\",\"start\":\"START_DATE\",\"end\":\"END_DATE\"}]},\"max-results\":10000,\"page-num\":1}\n",
      "finished report no 22\n",
      "starting report no 23\n",
      "https://api.atinternet.io/v3/data/getData?param={\"columns\":[\"site_level2\",\"geo_country\",\"device_type\",\"m_unique_visitors\"],\"sort\":[\"-m_unique_visitors\"],\"space\":{\"s\":[598346]},\"period\":{\"p1\":[{\"type\":\"D\",\"start\":\"START_DATE\",\"end\":\"END_DATE\"}]},\"max-results\":10000,\"page-num\":1}\n",
      "finished report no 23\n",
      "starting report no 24\n",
      "https://api.atinternet.io/v3/data/getData?param={\"columns\":[\"language\",\"geo_country\",\"m_unique_visitors\"],\"sort\":[\"-m_unique_visitors\"],\"filter\":{\"property\":{\"site_level2\":{\"$empty\":true}}},\"space\":{\"s\":[598346]},\"period\":{\"p1\":[{\"type\":\"D\",\"start\":\"START_DATE\",\"end\":\"END_DATE\"}]},\"max-results\":10000,\"page-num\":1}\n",
      "finished report no 24\n",
      "starting report no 25\n",
      "https://api.atinternet.io/v3/data/getData?param={\"columns\":[\"geo_country\",\"m_unique_visitors\"],\"sort\":[\"-m_unique_visitors\"],\"space\":{\"s\":[598344]},\"period\":{\"p1\":[{\"type\":\"D\",\"start\":\"START_DATE\",\"end\":\"END_DATE\"}]},\"max-results\":10000,\"page-num\":1}\n",
      "finished report no 25\n",
      "starting report no 26\n",
      "https://api.atinternet.io/v3/data/getData?param={\"columns\":[\"geo_country\",\"device_type\",\"m_unique_visitors\"],\"sort\":[\"-m_unique_visitors\"],\"space\":{\"s\":[598344]},\"period\":{\"p1\":[{\"type\":\"D\",\"start\":\"START_DATE\",\"end\":\"END_DATE\"}]},\"max-results\":10000,\"page-num\":1}\n",
      "finished report no 26\n",
      "starting report no 27\n",
      "https://api.atinternet.io/v3/data/getData?param={\"columns\":[\"site_level2\",\"geo_country\",\"m_unique_visitors\"],\"sort\":[\"-m_unique_visitors\"],\"filter\":{\"property\":{\"$AND\":[{\"site_level2\":{\"$lk\":\"English\"}},{\"site_level2\":{\"$lk\":\"World\"}}]}},\"space\":{\"s\":[598306]},\"period\":{\"p1\":[{\"type\":\"D\",\"start\":\"START_DATE\",\"end\":\"END_DATE\"}]},\"max-results\":10000,\"page-num\":1}\n",
      "finished report no 27\n",
      "starting report no 28\n",
      "https://api.atinternet.io/v3/data/getData?param={\"columns\":[\"site_level2\",\"geo_country\",\"device_type\",\"m_unique_visitors\"],\"sort\":[\"-m_unique_visitors\"],\"filter\":{\"property\":{\"$AND\":[{\"site_level2\":{\"$lk\":\"English\"}},{\"site_level2\":{\"$lk\":\"World\"}}]}},\"space\":{\"s\":[598306]},\"period\":{\"p1\":[{\"type\":\"D\",\"start\":\"START_DATE\",\"end\":\"END_DATE\"}]},\"max-results\":10000,\"page-num\":1}\n",
      "finished report no 28\n",
      "starting report no 29\n",
      "https://api.atinternet.io/v3/data/getData?param={\"columns\":[\"geo_country\",\"m_unique_visitors\"],\"sort\":[\"-m_unique_visitors\"],\"filter\":{\"property\":{\"geo_country\":{\"$nlk\":\"Kingdom\"}}},\"space\":{\"s\":[637014,598265,598271,598287,598289,598302,598308,598312,612991,598330]},\"period\":{\"p1\":[{\"type\":\"D\",\"start\":\"START_DATE\",\"end\":\"END_DATE\"}]},\"max-results\":10000,\"page-num\":1}\n",
      "finished report no 29\n",
      "starting report no 30\n",
      "https://api.atinternet.io/v3/data/getData?param={\"columns\":[\"geo_country\",\"device_type\",\"m_unique_visitors\"],\"sort\":[\"-m_unique_visitors\"],\"filter\":{\"property\":{\"geo_country\":{\"$nlk\":\"Kingdom\"}}},\"space\":{\"s\":[637014,598265,598271,598287,598289,598302,598308,598312,612991,598330]},\"period\":{\"p1\":[{\"type\":\"D\",\"start\":\"START_DATE\",\"end\":\"END_DATE\"}]},\"max-results\":10000,\"page-num\":1}\n",
      "finished report no 30\n",
      "starting report no 31\n",
      "https://api.atinternet.io/v3/data/getData?param={\"columns\":[\"producer_nonjs\",\"geo_country\",\"m_unique_visitors\"],\"sort\":[\"-m_unique_visitors\"],\"filter\":{\"property\":{\"geo_country\":{\"$nlk\":\"Kingdom\"}}},\"space\":{\"s\":[598253]},\"period\":{\"p1\":[{\"type\":\"D\",\"start\":\"START_DATE\",\"end\":\"END_DATE\"}]},\"max-results\":10000,\"page-num\":1}\n",
      "finished report no 31\n",
      "starting report no 100\n",
      "https://api.atinternet.io/v3/data/getData?param={\"columns\":[\"date_yearofweek\",\"date_week\",\"geo_country\",\"m_unique_visitors\"],\"sort\":[\"date_yearofweek\",\"date_week\",\"-m_unique_visitors\"],\"space\":{\"s\":[631891,631893,642216,631894,631890,632020,632021,632014,627585,632019,631899,632015,631895,631896,631897,632016,632736,638825,637129,632271,635034,631898]},\"period\":{\"p1\":[{\"type\":\"D\",\"start\":\"START_DATE\",\"end\":\"END_DATE\"}]},\"max-results\":10000,\"page-num\":1,\"options\":{\"ignore_null_properties\":true}}\n",
      "... iteration ../data/raw/site/piano_reports/GAM2025_reportNo100_weekNo14.csv\n",
      "... iteration ../data/raw/site/piano_reports/GAM2025_reportNo100_weekNo15.csv\n",
      "... iteration ../data/raw/site/piano_reports/GAM2025_reportNo100_weekNo16.csv\n",
      "... iteration ../data/raw/site/piano_reports/GAM2025_reportNo100_weekNo17.csv\n",
      "... iteration ../data/raw/site/piano_reports/GAM2025_reportNo100_weekNo18.csv\n",
      "... iteration ../data/raw/site/piano_reports/GAM2025_reportNo100_weekNo19.csv\n",
      "... iteration ../data/raw/site/piano_reports/GAM2025_reportNo100_weekNo20.csv\n",
      "... iteration ../data/raw/site/piano_reports/GAM2025_reportNo100_weekNo21.csv\n",
      "... iteration ../data/raw/site/piano_reports/GAM2025_reportNo100_weekNo22.csv\n",
      "... iteration ../data/raw/site/piano_reports/GAM2025_reportNo100_weekNo23.csv\n",
      "... iteration ../data/raw/site/piano_reports/GAM2025_reportNo100_weekNo24.csv\n",
      "... iteration ../data/raw/site/piano_reports/GAM2025_reportNo100_weekNo25.csv\n",
      "... iteration ../data/raw/site/piano_reports/GAM2025_reportNo100_weekNo26.csv\n",
      "... iteration ../data/raw/site/piano_reports/GAM2025_reportNo100_weekNo27.csv\n",
      "... iteration ../data/raw/site/piano_reports/GAM2025_reportNo100_weekNo28.csv\n",
      "... iteration ../data/raw/site/piano_reports/GAM2025_reportNo100_weekNo29.csv\n",
      "... iteration ../data/raw/site/piano_reports/GAM2025_reportNo100_weekNo30.csv\n",
      "... iteration ../data/raw/site/piano_reports/GAM2025_reportNo100_weekNo31.csv\n",
      "... iteration ../data/raw/site/piano_reports/GAM2025_reportNo100_weekNo32.csv\n",
      "... iteration ../data/raw/site/piano_reports/GAM2025_reportNo100_weekNo33.csv\n",
      "... iteration ../data/raw/site/piano_reports/GAM2025_reportNo100_weekNo34.csv\n",
      "... iteration ../data/raw/site/piano_reports/GAM2025_reportNo100_weekNo35.csv\n",
      "... iteration ../data/raw/site/piano_reports/GAM2025_reportNo100_weekNo36.csv\n",
      "... iteration ../data/raw/site/piano_reports/GAM2025_reportNo100_weekNo37.csv\n",
      "... iteration ../data/raw/site/piano_reports/GAM2025_reportNo100_weekNo38.csv\n",
      "... iteration ../data/raw/site/piano_reports/GAM2025_reportNo100_weekNo39.csv\n",
      "... iteration ../data/raw/site/piano_reports/GAM2025_reportNo100_weekNo40.csv\n",
      "... iteration ../data/raw/site/piano_reports/GAM2025_reportNo100_weekNo41.csv\n",
      "... iteration ../data/raw/site/piano_reports/GAM2025_reportNo100_weekNo42.csv\n",
      "... iteration ../data/raw/site/piano_reports/GAM2025_reportNo100_weekNo43.csv\n",
      "... iteration ../data/raw/site/piano_reports/GAM2025_reportNo100_weekNo44.csv\n",
      "... iteration ../data/raw/site/piano_reports/GAM2025_reportNo100_weekNo45.csv\n",
      "... iteration ../data/raw/site/piano_reports/GAM2025_reportNo100_weekNo46.csv\n",
      "... iteration ../data/raw/site/piano_reports/GAM2025_reportNo100_weekNo47.csv\n",
      "... iteration ../data/raw/site/piano_reports/GAM2025_reportNo100_weekNo48.csv\n",
      "... iteration ../data/raw/site/piano_reports/GAM2025_reportNo100_weekNo49.csv\n",
      "... iteration ../data/raw/site/piano_reports/GAM2025_reportNo100_weekNo50.csv\n",
      "... iteration ../data/raw/site/piano_reports/GAM2025_reportNo100_weekNo51.csv\n",
      "... iteration ../data/raw/site/piano_reports/GAM2025_reportNo100_weekNo52.csv\n",
      "... iteration ../data/raw/site/piano_reports/GAM2025_reportNo100_weekNo1.csv\n",
      "... iteration ../data/raw/site/piano_reports/GAM2025_reportNo100_weekNo2.csv\n",
      "... iteration ../data/raw/site/piano_reports/GAM2025_reportNo100_weekNo3.csv\n",
      "... iteration ../data/raw/site/piano_reports/GAM2025_reportNo100_weekNo4.csv\n",
      "... iteration ../data/raw/site/piano_reports/GAM2025_reportNo100_weekNo5.csv\n",
      "... iteration ../data/raw/site/piano_reports/GAM2025_reportNo100_weekNo6.csv\n",
      "... iteration ../data/raw/site/piano_reports/GAM2025_reportNo100_weekNo7.csv\n",
      "... iteration ../data/raw/site/piano_reports/GAM2025_reportNo100_weekNo8.csv\n",
      "... iteration ../data/raw/site/piano_reports/GAM2025_reportNo100_weekNo9.csv\n",
      "... iteration ../data/raw/site/piano_reports/GAM2025_reportNo100_weekNo10.csv\n",
      "... iteration ../data/raw/site/piano_reports/GAM2025_reportNo100_weekNo11.csv\n",
      "... iteration ../data/raw/site/piano_reports/GAM2025_reportNo100_weekNo12.csv\n",
      "... iteration ../data/raw/site/piano_reports/GAM2025_reportNo100_weekNo13.csv\n",
      "finished report no 100\n"
     ]
    }
   ],
   "source": [
    "i = 0\n",
    "for index, row in site_info.iterrows():\n",
    "    \n",
    "    api_query = row['API']\n",
    "    api_query_key = api_key[row['api_key']]\n",
    "    report_no = row['Report No.']\n",
    "\n",
    "    #print(convert_url_to_query(api_query, start, end))\n",
    "    print(f\"starting report no {report_no}\")\n",
    "    print(api_query)\n",
    "    \n",
    "    for jndex, row in week_tester.iterrows():\n",
    "        week_number = row['Week Number']\n",
    "        filename = f\"../data/raw/site/piano_reports/{gam_info['file_timeinfo']}_reportNo{report_no}_weekNo{week_number}.csv\"\n",
    "        \n",
    "        # Check if the file exists, if so, continue to the next iteration\n",
    "        if os.path.exists(filename):\n",
    "            continue\n",
    "            \n",
    "        print(f\"... iteration {filename}\")\n",
    "        start = row['w/c'] # dtype object\n",
    "        end = row['week_ending'] # dtype object\n",
    "        \n",
    "        # convert to api query \n",
    "        query = functions.convert_url_to_query(api_query, start, end)\n",
    "        \n",
    "        # run api query \n",
    "        temp = functions.api_call(query, api_query_key)\n",
    "        \n",
    "        temp['w/c'] = start\n",
    "        temp['timestamp_queryRun'] = datetime.now().strftime('%y%m%d-%H%M')\n",
    "        temp['API'] = api_query\n",
    "\n",
    "        if temp.shape[0] == 0:\n",
    "            temp = pd.DataFrame({\n",
    "                'w/c': [start],\n",
    "                'timestamp_queryRun': [datetime.now().strftime('%y%m%d-%H%M')],\n",
    "                'api_query': [api_query]\n",
    "            })\n",
    "            \n",
    "        temp.to_csv(filename, index=None)\n",
    "        \n",
    "    print(f\"finished report no {report_no}\")"
   ]
  },
  {
   "cell_type": "code",
   "execution_count": 6,
   "id": "33a94773-53f9-4d04-bd26-7e4ad43b64a7",
   "metadata": {},
   "outputs": [],
   "source": [
    "# test if more than 10000 rows are recorded to see if the pagination works \n",
    "    # yes it wokrs: great well done! \n",
    "    # no it doesn't: rerun all 10000 long queries\n",
    "# Result: yes it works and also no report is larger than 200'000 (18k)"
   ]
  },
  {
   "cell_type": "markdown",
   "id": "2ba7e4c4-83da-49ce-8118-7d0714ac5ac1",
   "metadata": {},
   "source": [
    "# Analysis "
   ]
  },
  {
   "cell_type": "markdown",
   "id": "55910e02-0abd-4b85-b456-cc90bdfb2a4c",
   "metadata": {},
   "source": [
    "## Chartbeat vs Piano"
   ]
  },
  {
   "cell_type": "code",
   "execution_count": 12,
   "id": "8a6ec3ae-5170-4381-b4fa-de103ab6f9d9",
   "metadata": {},
   "outputs": [],
   "source": [
    "# build at home"
   ]
  },
  {
   "cell_type": "markdown",
   "id": "b6c9b795-38e3-409f-a4a9-c799cc8f284b",
   "metadata": {},
   "source": [
    "# Processing "
   ]
  },
  {
   "cell_type": "code",
   "execution_count": 8,
   "id": "dddee887-5432-4201-99db-a59776eeb67e",
   "metadata": {},
   "outputs": [
    {
     "name": "stderr",
     "output_type": "stream",
     "text": [
      "100%|██████████████████████████████████████| 3710/3710 [00:35<00:00, 103.92it/s]\n"
     ]
    },
    {
     "name": "stdout",
     "output_type": "stream",
     "text": [
      "largest file is 18254 rows long\n"
     ]
    }
   ],
   "source": [
    "filepath = f\"../data/raw/site/piano_reports/\"\n",
    "all_files, empty_report_list = [], []\n",
    "size = 0\n",
    "for file in tqdm(os.listdir(filepath)):\n",
    "    \n",
    "    if (gam_info['file_timeinfo'] in file):\n",
    "        temp= pd.read_csv(filepath+file)\n",
    "        if len(temp.columns) == 3:\n",
    "            empty_report_list.append(file)\n",
    "        # measuring how many rows the largest file has\n",
    "        if temp.shape[0] > size:\n",
    "            size= temp.shape[0] \n",
    "        temp['filename'] = file\n",
    "        parts = file.split('_')\n",
    "        temp['Report No.'] = parts[1]\n",
    "        temp['Report No.'] = temp['Report No.'].str.extract('(\\d+)')[0]\n",
    "        \n",
    "        all_files.append(temp)\n",
    "\n",
    "print(f\"largest file is {size} rows long\")\n",
    "#empty_report_list.to_csv(f\"../test/specific/{gam_info['file_timeinfo']}_empty_report_returns.csv\")\n",
    "\n",
    "combined_df = pd.concat(all_files)\n",
    "if 'API' not in combined_df.columns:\n",
    "    print('adding API')\n",
    "    combined_df['API'] = ''\n",
    "combined_df['API'] = combined_df['API'].fillna(combined_df['api_query'])\n",
    "combined_df.drop(columns=['api_query'], inplace=True)\n",
    "combined_df['w/c'] = pd.to_datetime(combined_df['w/c'] )"
   ]
  },
  {
   "cell_type": "code",
   "execution_count": 9,
   "id": "4b1d6fc9-faa9-4cf2-8c39-08e61e029fc2",
   "metadata": {},
   "outputs": [
    {
     "name": "stdout",
     "output_type": "stream",
     "text": [
      "Inner join test 1_Site_2 successful: No issues found.\n",
      "...updating logbook...\n",
      "\n",
      "All weeks are present in the dataset for each group.\n",
      "...updating logbook...\n",
      "\n"
     ]
    }
   ],
   "source": [
    "# test all reports are there \n",
    "test_functions.test_inner_join(site_info, combined_df, ['Report No.', 'API'], \n",
    "                               '1_Site_2', 'adding report context info', focus='left')\n",
    "\n",
    "# add report info\n",
    "full_df = site_info.merge(combined_df, on=['Report No.', 'API'], how='inner', )\n",
    "#print(full_df['Report No.'].unique())\n",
    "\n",
    "# test all weeks are there \n",
    "test_functions.test_weeks_presence_per_account('w/c', 'Report No.', full_df, week_tester, \n",
    "                                               '1_Site_3', test_step='combining api returns')\n",
    "\n",
    "# add week_lookup data\n",
    "full_df = full_df.merge(week_tester[['YearGAE', 'Week Number', 'w/c']], on='w/c', how='left')\n",
    "# excluded: 'API', 'timestamp_queryRun', 'filename', 'Year',\n",
    "cols = ['Category', 'Report No.', 'Space', 'Description', \n",
    "        'YearGAE', 'Week Number', 'w/c',  \n",
    "        'site_level2', 'geo_country', 'm_unique_visitors', 'm_page_loads', \n",
    "        'device_type', 'app_name', 'language', 'producer_nonjs', 'src']\n",
    "full_df = full_df[cols]\n",
    "\n",
    "\n",
    "# Specify the dtype option to avoid DtypeWarning for columns with mixed types\n",
    "dtype_spec = {\n",
    "    #'m_unique_visitors': int,\n",
    "    'Report No.': str,\n",
    "    'device_type': str,\n",
    "    'app_name': str,\n",
    "    'language': str,\n",
    "    'producer_nonjs': str,\n",
    "    'src': str\n",
    "}\n",
    "\n",
    "# Convert columns to the specified dtypes\n",
    "for column, dtype in dtype_spec.items():\n",
    "    if column in full_df.columns:\n",
    "        full_df[column] = full_df[column].apply(lambda x: str(x) if pd.notnull(x) else '')\n",
    "\n",
    "full_df.to_csv(f\"../data/raw/{gam_info['file_timeinfo']}_rawDataFromPiano.csv\", index=None)"
   ]
  },
  {
   "cell_type": "code",
   "execution_count": 10,
   "id": "bff7a520-5f05-433d-95c4-003219798328",
   "metadata": {},
   "outputs": [
    {
     "data": {
      "text/html": [
       "<div>\n",
       "<style scoped>\n",
       "    .dataframe tbody tr th:only-of-type {\n",
       "        vertical-align: middle;\n",
       "    }\n",
       "\n",
       "    .dataframe tbody tr th {\n",
       "        vertical-align: top;\n",
       "    }\n",
       "\n",
       "    .dataframe thead th {\n",
       "        text-align: right;\n",
       "    }\n",
       "</style>\n",
       "<table border=\"1\" class=\"dataframe\">\n",
       "  <thead>\n",
       "    <tr style=\"text-align: right;\">\n",
       "      <th></th>\n",
       "      <th>Category</th>\n",
       "      <th>Report No.</th>\n",
       "      <th>Space</th>\n",
       "      <th>Description</th>\n",
       "      <th>YearGAE</th>\n",
       "      <th>Week Number</th>\n",
       "      <th>w/c</th>\n",
       "      <th>site_level2</th>\n",
       "      <th>geo_country</th>\n",
       "      <th>m_unique_visitors</th>\n",
       "      <th>m_page_loads</th>\n",
       "      <th>device_type</th>\n",
       "      <th>app_name</th>\n",
       "      <th>language</th>\n",
       "      <th>producer_nonjs</th>\n",
       "      <th>src</th>\n",
       "    </tr>\n",
       "  </thead>\n",
       "  <tbody>\n",
       "    <tr>\n",
       "      <th>1538551</th>\n",
       "      <td>Reach Calc.</td>\n",
       "      <td>20</td>\n",
       "      <td>WSLS-Direct-C</td>\n",
       "      <td>World Service Languages - Service Direct by Country</td>\n",
       "      <td>2025</td>\n",
       "      <td>8</td>\n",
       "      <td>2025-02-17</td>\n",
       "      <td>UK China</td>\n",
       "      <td>Viet nam</td>\n",
       "      <td>116.0</td>\n",
       "      <td>NaN</td>\n",
       "      <td></td>\n",
       "      <td></td>\n",
       "      <td></td>\n",
       "      <td></td>\n",
       "      <td></td>\n",
       "    </tr>\n",
       "  </tbody>\n",
       "</table>\n",
       "</div>"
      ],
      "text/plain": [
       "            Category Report No.          Space  \\\n",
       "1538551  Reach Calc.         20  WSLS-Direct-C   \n",
       "\n",
       "                                                 Description  YearGAE  \\\n",
       "1538551  World Service Languages - Service Direct by Country     2025   \n",
       "\n",
       "         Week Number        w/c site_level2 geo_country  m_unique_visitors  \\\n",
       "1538551            8 2025-02-17    UK China    Viet nam              116.0   \n",
       "\n",
       "         m_page_loads device_type app_name language producer_nonjs src  \n",
       "1538551           NaN                                                   "
      ]
     },
     "execution_count": 10,
     "metadata": {},
     "output_type": "execute_result"
    }
   ],
   "source": [
    "full_df.sample()"
   ]
  },
  {
   "cell_type": "code",
   "execution_count": 11,
   "id": "39226cf1-c5cc-4690-9cd1-76213245a1c8",
   "metadata": {},
   "outputs": [
    {
     "data": {
      "text/plain": [
       "array(['12', '13', '14', '15', '16', '17', '18', '19', '20', '21', '22',\n",
       "       '23', '24', '25', '26', '27', '28', '29', '30', '31', '100'],\n",
       "      dtype=object)"
      ]
     },
     "execution_count": 11,
     "metadata": {},
     "output_type": "execute_result"
    }
   ],
   "source": [
    "full_df['Report No.'].unique()"
   ]
  },
  {
   "cell_type": "code",
   "execution_count": null,
   "id": "e8f7ba29-8d6e-459e-963e-de956341bd2d",
   "metadata": {},
   "outputs": [],
   "source": []
  }
 ],
 "metadata": {
  "kernelspec": {
   "display_name": "Python 3 (ipykernel)",
   "language": "python",
   "name": "python3"
  },
  "language_info": {
   "codemirror_mode": {
    "name": "ipython",
    "version": 3
   },
   "file_extension": ".py",
   "mimetype": "text/x-python",
   "name": "python",
   "nbconvert_exporter": "python",
   "pygments_lexer": "ipython3",
   "version": "3.11.3"
  }
 },
 "nbformat": 4,
 "nbformat_minor": 5
}
