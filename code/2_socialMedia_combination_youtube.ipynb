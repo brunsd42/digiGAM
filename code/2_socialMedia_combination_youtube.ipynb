{
 "cells": [
  {
   "cell_type": "markdown",
   "id": "f9049a04-7aeb-470e-b9b7-7c8a8ac3ac75",
   "metadata": {},
   "source": [
    "## import libraries"
   ]
  },
  {
   "cell_type": "code",
   "execution_count": 67,
   "id": "38639118-4548-41e4-8289-3e311f2b8a20",
   "metadata": {},
   "outputs": [],
   "source": [
    "import os\n",
    "import zipfile\n",
    "\n",
    "from tqdm import tqdm \n",
    "from datetime import datetime\n",
    "\n",
    "import pandas as pd\n",
    "pd.set_option('display.max_colwidth', None)\n",
    "\n",
    "import numpy as np\n",
    "\n",
    "import re\n",
    "\n",
    "import yxdb\n",
    "\n",
    "import missingno as msno\n",
    "import matplotlib.pyplot as plt\n",
    "import seaborn as sns \n",
    "\n",
    "import psycopg2"
   ]
  },
  {
   "cell_type": "markdown",
   "id": "03a2267c-ba2d-443a-a98f-10d3772486d6",
   "metadata": {},
   "source": [
    "## import helper "
   ]
  },
  {
   "cell_type": "code",
   "execution_count": 68,
   "id": "4f5575b7-60b4-4a6a-866b-0c0be68a197c",
   "metadata": {},
   "outputs": [],
   "source": [
    "from config_GAM2025 import gam_info\n",
    "\n",
    "from functions import execute_sql_query\n",
    "import test_functions"
   ]
  },
  {
   "cell_type": "code",
   "execution_count": 69,
   "id": "4cc37984-f240-4046-a8ec-8f65dbf0d80b",
   "metadata": {},
   "outputs": [
    {
     "data": {
      "text/plain": [
       "'GAM2025_Lookup.xlsx'"
      ]
     },
     "execution_count": 69,
     "metadata": {},
     "output_type": "execute_result"
    }
   ],
   "source": [
    "gam_info['lookup_file']"
   ]
  },
  {
   "cell_type": "code",
   "execution_count": 70,
   "id": "ec311860-8be4-4a7f-a695-b7f6a97570a8",
   "metadata": {},
   "outputs": [
    {
     "data": {
      "text/html": [
       "<div>\n",
       "<style scoped>\n",
       "    .dataframe tbody tr th:only-of-type {\n",
       "        vertical-align: middle;\n",
       "    }\n",
       "\n",
       "    .dataframe tbody tr th {\n",
       "        vertical-align: top;\n",
       "    }\n",
       "\n",
       "    .dataframe thead th {\n",
       "        text-align: right;\n",
       "    }\n",
       "</style>\n",
       "<table border=\"1\" class=\"dataframe\">\n",
       "  <thead>\n",
       "    <tr style=\"text-align: right;\">\n",
       "      <th></th>\n",
       "      <th>Platform</th>\n",
       "      <th>Status</th>\n",
       "      <th>Channel ID</th>\n",
       "      <th>Channel Name</th>\n",
       "      <th>Service</th>\n",
       "      <th>ServiceID</th>\n",
       "      <th>Channel Group</th>\n",
       "      <th>Channel URL</th>\n",
       "      <th>Channel Username</th>\n",
       "      <th>Linked FB Account</th>\n",
       "      <th>Year</th>\n",
       "    </tr>\n",
       "  </thead>\n",
       "  <tbody>\n",
       "    <tr>\n",
       "      <th>458</th>\n",
       "      <td>Youtube</td>\n",
       "      <td>active</td>\n",
       "      <td>BBC Media Action Myanmar</td>\n",
       "      <td>BBC Media Action Myanmar</td>\n",
       "      <td>Media Action</td>\n",
       "      <td>MA-</td>\n",
       "      <td>Media Action</td>\n",
       "      <td>NaN</td>\n",
       "      <td>NaN</td>\n",
       "      <td>NaN</td>\n",
       "      <td>GAM2025</td>\n",
       "    </tr>\n",
       "  </tbody>\n",
       "</table>\n",
       "</div>"
      ],
      "text/plain": [
       "    Platform  Status                Channel ID              Channel Name  \\\n",
       "458  Youtube  active  BBC Media Action Myanmar  BBC Media Action Myanmar   \n",
       "\n",
       "          Service ServiceID Channel Group Channel URL Channel Username  \\\n",
       "458  Media Action       MA-  Media Action         NaN              NaN   \n",
       "\n",
       "    Linked FB Account     Year  \n",
       "458               NaN  GAM2025  "
      ]
     },
     "execution_count": 70,
     "metadata": {},
     "output_type": "execute_result"
    }
   ],
   "source": [
    "# country\n",
    "country_codes = pd.read_excel(f\"../../{gam_info['lookup_file']}\", sheet_name='CountryID')\n",
    "\n",
    "# week \n",
    "week_tester = pd.read_excel(f\"../../{gam_info['lookup_file']}\", sheet_name='GAM Period')\n",
    "week_tester['w/c'] = pd.to_datetime(week_tester['w/c'])\n",
    "week_tester['week_ending'] = pd.to_datetime(week_tester['week_ending'])\n",
    "\n",
    "# social media accounts\n",
    "dtype_dict = {'Channel ID': 'str',\n",
    "              'Linked FB Account': 'str'}\n",
    "socialmedia_accounts = pd.read_excel(f\"../../{gam_info['lookup_file']}\", dtype=dtype_dict,\n",
    "                                     sheet_name='Social Media Accounts new')\n",
    "\n",
    "socialmedia_accounts = socialmedia_accounts[(socialmedia_accounts['Platform'] == 'Youtube')\n",
    "                                            & \n",
    "                                            (socialmedia_accounts['Status'] == 'active')]\n",
    "socialmedia_accounts = socialmedia_accounts.rename(columns={'Excluding UK': 'Channel Group'})\n",
    "\n",
    "channel_ids = socialmedia_accounts['Channel ID'].unique().tolist()\n",
    "formatted_channel_ids = ', '.join(f\"'{channel_id}'\" for channel_id in channel_ids)\n",
    "socialmedia_accounts.sample()"
   ]
  },
  {
   "cell_type": "markdown",
   "id": "96a28163-ac5b-4adb-a45f-289fb847bcbf",
   "metadata": {},
   "source": [
    "# Unique Viewers"
   ]
  },
  {
   "cell_type": "code",
   "execution_count": 71,
   "id": "623ab554-aa38-4c2e-bbec-5c3836cb314f",
   "metadata": {},
   "outputs": [
    {
     "data": {
      "text/html": [
       "<div>\n",
       "<style scoped>\n",
       "    .dataframe tbody tr th:only-of-type {\n",
       "        vertical-align: middle;\n",
       "    }\n",
       "\n",
       "    .dataframe tbody tr th {\n",
       "        vertical-align: top;\n",
       "    }\n",
       "\n",
       "    .dataframe thead th {\n",
       "        text-align: right;\n",
       "    }\n",
       "</style>\n",
       "<table border=\"1\" class=\"dataframe\">\n",
       "  <thead>\n",
       "    <tr style=\"text-align: right;\">\n",
       "      <th></th>\n",
       "      <th>Channel ID</th>\n",
       "      <th>Channel Name</th>\n",
       "      <th>ServiceID</th>\n",
       "      <th>Channel Group</th>\n",
       "      <th>Channel title</th>\n",
       "      <th>Unique viewers</th>\n",
       "      <th>w/c</th>\n",
       "    </tr>\n",
       "  </thead>\n",
       "  <tbody>\n",
       "    <tr>\n",
       "      <th>3981</th>\n",
       "      <td>UCLgQVOZQ-pbu35WyIIFCF9g</td>\n",
       "      <td>My World Kitchen Official</td>\n",
       "      <td>WOR</td>\n",
       "      <td>BBCW Family</td>\n",
       "      <td>My World Kitchen Official</td>\n",
       "      <td>1774.0</td>\n",
       "      <td>2024-09-16</td>\n",
       "    </tr>\n",
       "  </tbody>\n",
       "</table>\n",
       "</div>"
      ],
      "text/plain": [
       "                    Channel ID               Channel Name ServiceID  \\\n",
       "3981  UCLgQVOZQ-pbu35WyIIFCF9g  My World Kitchen Official       WOR   \n",
       "\n",
       "     Channel Group              Channel title  Unique viewers         w/c  \n",
       "3981   BBCW Family  My World Kitchen Official          1774.0  2024-09-16  "
      ]
     },
     "execution_count": 71,
     "metadata": {},
     "output_type": "execute_result"
    }
   ],
   "source": [
    "uniqueViewer_df = pd.read_csv(f\"../data/processed/Youtube/{gam_info['file_timeinfo']}_uniqueViewer.csv\")\n",
    "uniqueViewer_df.sample()\n"
   ]
  },
  {
   "cell_type": "code",
   "execution_count": 84,
   "id": "3b0500f3-5b4b-43f6-b205-dce7933b09bc",
   "metadata": {},
   "outputs": [
    {
     "data": {
      "text/html": [
       "<div>\n",
       "<style scoped>\n",
       "    .dataframe tbody tr th:only-of-type {\n",
       "        vertical-align: middle;\n",
       "    }\n",
       "\n",
       "    .dataframe tbody tr th {\n",
       "        vertical-align: top;\n",
       "    }\n",
       "\n",
       "    .dataframe thead th {\n",
       "        text-align: right;\n",
       "    }\n",
       "</style>\n",
       "<table border=\"1\" class=\"dataframe\">\n",
       "  <thead>\n",
       "    <tr style=\"text-align: right;\">\n",
       "      <th></th>\n",
       "      <th>Channel ID</th>\n",
       "      <th>Channel Name</th>\n",
       "      <th>ServiceID</th>\n",
       "      <th>Channel Group</th>\n",
       "      <th>Channel title</th>\n",
       "      <th>Unique viewers</th>\n",
       "      <th>w/c</th>\n",
       "    </tr>\n",
       "  </thead>\n",
       "  <tbody>\n",
       "    <tr>\n",
       "      <th>1763</th>\n",
       "      <td>UCCrAKchnDFMhrKeXSYWXjGA</td>\n",
       "      <td>BBC News na srpskom</td>\n",
       "      <td>SER</td>\n",
       "      <td>BBC World Service</td>\n",
       "      <td>BBC News na srpskom</td>\n",
       "      <td>19566.0</td>\n",
       "      <td>2024-04-01</td>\n",
       "    </tr>\n",
       "  </tbody>\n",
       "</table>\n",
       "</div>"
      ],
      "text/plain": [
       "                    Channel ID         Channel Name ServiceID  \\\n",
       "1763  UCCrAKchnDFMhrKeXSYWXjGA  BBC News na srpskom       SER   \n",
       "\n",
       "          Channel Group        Channel title  Unique viewers         w/c  \n",
       "1763  BBC World Service  BBC News na srpskom         19566.0  2024-04-01  "
      ]
     },
     "execution_count": 84,
     "metadata": {},
     "output_type": "execute_result"
    }
   ],
   "source": [
    "uniqueViewer_df[(uniqueViewer_df['ServiceID'] == 'SER') & \n",
    "                (uniqueViewer_df['w/c'] == '2024-04-01')]"
   ]
  },
  {
   "cell_type": "code",
   "execution_count": 93,
   "id": "6cc53e17-d80c-4b0d-8bd4-8feda2265104",
   "metadata": {},
   "outputs": [
    {
     "data": {
      "text/plain": [
       "np.float64(348482.370526686)"
      ]
     },
     "execution_count": 93,
     "metadata": {},
     "output_type": "execute_result"
    }
   ],
   "source": [
    "temp = country_df.merge(socialmedia_accounts[['Channel ID', 'Service']], on='Channel ID', how='left')\n",
    "uniqueViewer_df[(uniqueViewer_df['w/c'] == '2024-07-01') & (uniqueViewer_df['ServiceID'] == 'MA-')]['Unique viewers'].sum()\n"
   ]
  },
  {
   "cell_type": "markdown",
   "id": "0172943e-5892-4d39-8b73-85f932436bcc",
   "metadata": {},
   "source": [
    "# Country"
   ]
  },
  {
   "cell_type": "code",
   "execution_count": 72,
   "id": "783c510c-5323-4335-8a22-739284fb17ac",
   "metadata": {},
   "outputs": [
    {
     "data": {
      "text/html": [
       "<div>\n",
       "<style scoped>\n",
       "    .dataframe tbody tr th:only-of-type {\n",
       "        vertical-align: middle;\n",
       "    }\n",
       "\n",
       "    .dataframe tbody tr th {\n",
       "        vertical-align: top;\n",
       "    }\n",
       "\n",
       "    .dataframe thead th {\n",
       "        text-align: right;\n",
       "    }\n",
       "</style>\n",
       "<table border=\"1\" class=\"dataframe\">\n",
       "  <thead>\n",
       "    <tr style=\"text-align: right;\">\n",
       "      <th></th>\n",
       "      <th>w/c</th>\n",
       "      <th>Channel ID</th>\n",
       "      <th>PlaceID</th>\n",
       "      <th>country_%</th>\n",
       "    </tr>\n",
       "  </thead>\n",
       "  <tbody>\n",
       "    <tr>\n",
       "      <th>98025</th>\n",
       "      <td>2025-02-24</td>\n",
       "      <td>UC7foTxErVJKorAitAcJuqDA</td>\n",
       "      <td>RWA</td>\n",
       "      <td>0.000067</td>\n",
       "    </tr>\n",
       "  </tbody>\n",
       "</table>\n",
       "</div>"
      ],
      "text/plain": [
       "              w/c                Channel ID PlaceID  country_%\n",
       "98025  2025-02-24  UC7foTxErVJKorAitAcJuqDA     RWA   0.000067"
      ]
     },
     "execution_count": 72,
     "metadata": {},
     "output_type": "execute_result"
    }
   ],
   "source": [
    "country_df = pd.read_csv(f\"../data/processed/Youtube/{gam_info['file_timeinfo']}_country.csv\")\n",
    "country_df.sample()\n"
   ]
  },
  {
   "cell_type": "code",
   "execution_count": 90,
   "id": "9caedb3f-c919-4ab4-a611-6edc8e042f1f",
   "metadata": {},
   "outputs": [
    {
     "data": {
      "text/html": [
       "<div>\n",
       "<style scoped>\n",
       "    .dataframe tbody tr th:only-of-type {\n",
       "        vertical-align: middle;\n",
       "    }\n",
       "\n",
       "    .dataframe tbody tr th {\n",
       "        vertical-align: top;\n",
       "    }\n",
       "\n",
       "    .dataframe thead th {\n",
       "        text-align: right;\n",
       "    }\n",
       "</style>\n",
       "<table border=\"1\" class=\"dataframe\">\n",
       "  <thead>\n",
       "    <tr style=\"text-align: right;\">\n",
       "      <th></th>\n",
       "      <th>w/c</th>\n",
       "      <th>Channel ID</th>\n",
       "      <th>PlaceID</th>\n",
       "      <th>country_%</th>\n",
       "      <th>Service</th>\n",
       "    </tr>\n",
       "  </thead>\n",
       "  <tbody>\n",
       "    <tr>\n",
       "      <th>940620</th>\n",
       "      <td>2024-07-01</td>\n",
       "      <td>aksikitaindo</td>\n",
       "      <td>INO</td>\n",
       "      <td>0.98267</td>\n",
       "      <td>Media Action</td>\n",
       "    </tr>\n",
       "    <tr>\n",
       "      <th>940681</th>\n",
       "      <td>2024-07-01</td>\n",
       "      <td>Sajha Sawal</td>\n",
       "      <td>INO</td>\n",
       "      <td>0.00000</td>\n",
       "      <td>Media Action</td>\n",
       "    </tr>\n",
       "  </tbody>\n",
       "</table>\n",
       "</div>"
      ],
      "text/plain": [
       "               w/c    Channel ID PlaceID  country_%       Service\n",
       "940620  2024-07-01  aksikitaindo     INO    0.98267  Media Action\n",
       "940681  2024-07-01   Sajha Sawal     INO    0.00000  Media Action"
      ]
     },
     "execution_count": 90,
     "metadata": {},
     "output_type": "execute_result"
    }
   ],
   "source": [
    "temp = country_df.merge(socialmedia_accounts[['Channel ID', 'Service']], on='Channel ID', how='left')\n",
    "temp[(temp['PlaceID'] == 'INO')  & (temp['w/c'] == '2024-07-01') & (temp['Service'] == 'Media Action')]"
   ]
  },
  {
   "cell_type": "markdown",
   "id": "c30bf3e8-7aea-4768-b5c7-8a041b14d762",
   "metadata": {},
   "source": [
    "# combine UV & country"
   ]
  },
  {
   "cell_type": "code",
   "execution_count": 73,
   "id": "4f0d74f9-4ac5-4cc0-bbbc-4fba07286291",
   "metadata": {},
   "outputs": [
    {
     "name": "stdout",
     "output_type": "stream",
     "text": [
      "Inner join test 1_YT_18 failed: Issues found.\n",
      "Issues with df_left (rows present in df_left but not in df_right)\n",
      "Issues with df_right (rows present in df_right but not in df_left)\n",
      "...updating logbook...\n",
      "\n",
      "_merge\n",
      "both          946413\n",
      "right_only      2569\n",
      "left_only       1529\n",
      "Name: count, dtype: int64\n"
     ]
    }
   ],
   "source": [
    "yt_uv_country = uniqueViewer_df.merge(country_df, \n",
    "                            on=['Channel ID', 'w/c'], \n",
    "                            how = 'outer', indicator=True)\n",
    "\n",
    "################################### Testing ################################### \n",
    "test_step = 'merging uv & country'\n",
    "\n",
    "test_functions.test_inner_join(uniqueViewer_df, country_df, ['Channel ID', 'w/c'], '1_YT_18', test_step)\n",
    "\n",
    "################################### Testing ################################### \n",
    "\n",
    "print(yt_uv_country._merge.value_counts())"
   ]
  },
  {
   "cell_type": "code",
   "execution_count": 74,
   "id": "cd72e90a-8d11-45a8-9bdb-c68c890b3826",
   "metadata": {},
   "outputs": [],
   "source": [
    "#yt_uv_country.to_csv('temp_yt_uvCountry.csv', index=None)"
   ]
  },
  {
   "cell_type": "code",
   "execution_count": 75,
   "id": "40d43a8c-0469-475f-9f6c-eeaf5edcf585",
   "metadata": {},
   "outputs": [
    {
     "data": {
      "text/html": [
       "<div>\n",
       "<style scoped>\n",
       "    .dataframe tbody tr th:only-of-type {\n",
       "        vertical-align: middle;\n",
       "    }\n",
       "\n",
       "    .dataframe tbody tr th {\n",
       "        vertical-align: top;\n",
       "    }\n",
       "\n",
       "    .dataframe thead th {\n",
       "        text-align: right;\n",
       "    }\n",
       "</style>\n",
       "<table border=\"1\" class=\"dataframe\">\n",
       "  <thead>\n",
       "    <tr style=\"text-align: right;\">\n",
       "      <th></th>\n",
       "      <th>Channel ID</th>\n",
       "      <th>Channel Name</th>\n",
       "      <th>ServiceID</th>\n",
       "      <th>Channel Group</th>\n",
       "      <th>Channel title</th>\n",
       "      <th>Unique viewers</th>\n",
       "      <th>w/c</th>\n",
       "      <th>PlaceID</th>\n",
       "      <th>country_%</th>\n",
       "      <th>uv_by_country</th>\n",
       "    </tr>\n",
       "  </thead>\n",
       "  <tbody>\n",
       "    <tr>\n",
       "      <th>222376</th>\n",
       "      <td>UCERIFsNgBE9wOUxXEFnz6Fw</td>\n",
       "      <td>Andy's Amazing Adventures</td>\n",
       "      <td>WOR</td>\n",
       "      <td>BBCW Family</td>\n",
       "      <td>Andy's Amazing Adventures</td>\n",
       "      <td>1561708.0</td>\n",
       "      <td>2024-05-06</td>\n",
       "      <td>CAY</td>\n",
       "      <td>0.000032</td>\n",
       "      <td>49.462045</td>\n",
       "    </tr>\n",
       "  </tbody>\n",
       "</table>\n",
       "</div>"
      ],
      "text/plain": [
       "                      Channel ID               Channel Name ServiceID  \\\n",
       "222376  UCERIFsNgBE9wOUxXEFnz6Fw  Andy's Amazing Adventures       WOR   \n",
       "\n",
       "       Channel Group              Channel title  Unique viewers         w/c  \\\n",
       "222376   BBCW Family  Andy's Amazing Adventures       1561708.0  2024-05-06   \n",
       "\n",
       "       PlaceID  country_%  uv_by_country  \n",
       "222376     CAY   0.000032      49.462045  "
      ]
     },
     "execution_count": 75,
     "metadata": {},
     "output_type": "execute_result"
    }
   ],
   "source": [
    "yt_uv_country = yt_uv_country[yt_uv_country['_merge'] == 'both'].drop(columns=['_merge'])\n",
    "yt_uv_country['uv_by_country'] = yt_uv_country['country_%'] * yt_uv_country['Unique viewers']\n",
    "yt_uv_country.sample()"
   ]
  },
  {
   "cell_type": "code",
   "execution_count": 76,
   "id": "0cbe43ee-85fb-4067-857f-d67961785646",
   "metadata": {},
   "outputs": [],
   "source": [
    "################################### Testing ################################### \n",
    "# all weeks \n",
    "# all weeks per channel\n",
    "# all weeks per service\n",
    "# all weeks per country\n",
    "\n",
    "# duplicates\n",
    "\n",
    "# test unique viewer is larger than unique vieewr per country \n",
    "# test total of unique vieewr per country == unique viewer\n",
    "# test country sum == 1\n",
    "\n",
    "# test allowed values - placeID\n",
    "# test allowed values - ServiceID\n",
    "\n",
    "################################### Testing ################################### "
   ]
  },
  {
   "cell_type": "markdown",
   "id": "105dbfee-7bf8-42ac-87d9-cd445d35b7aa",
   "metadata": {},
   "source": [
    "country tests\n",
    "- [ ] check only one entry per country & week & channel\n",
    "- [ ] check that sum of unique views per country == unique views gathered from yt clickedicklick\n",
    "- [ ] check country sum==1 (groupby channel & week == 1)\n",
    "- [ ] county the number of weeks we have for every channel counntry combination\n",
    "- [ ] check that no channel name is empty"
   ]
  },
  {
   "cell_type": "code",
   "execution_count": null,
   "id": "4a9157a5-de88-47b0-aaff-cef7518d59e6",
   "metadata": {},
   "outputs": [],
   "source": []
  },
  {
   "cell_type": "code",
   "execution_count": 77,
   "id": "03e240f8-beec-4ab8-a8c7-6ad8e533a397",
   "metadata": {},
   "outputs": [
    {
     "data": {
      "text/plain": [
       "'yt_uv_country.to_csv(f\"../data/singlePlatform/input/YouTube/{gam_info[\\'file_timeinfo\\']}_metric_country.csv\", \\n                     index=None)'"
      ]
     },
     "execution_count": 77,
     "metadata": {},
     "output_type": "execute_result"
    }
   ],
   "source": [
    "cols = ['w/c', 'PlaceID', 'ServiceID', 'Channel ID', 'uv_by_country', ]\n",
    "yt_uv_country[cols].to_csv(f\"../data/processed/YouTube/{gam_info['file_timeinfo']}_uniqueViewer_country.csv\", \n",
    "                     index=None)\n",
    "'''yt_uv_country.to_csv(f\"../data/singlePlatform/input/YouTube/{gam_info['file_timeinfo']}_metric_country.csv\", \n",
    "                     index=None)'''\n"
   ]
  },
  {
   "cell_type": "code",
   "execution_count": 80,
   "id": "638aed96-a277-4e2c-b7b3-9a2c08d3de10",
   "metadata": {},
   "outputs": [
    {
     "data": {
      "text/plain": [
       "array(['UAE', 'ALB', 'ARG', 'OST', 'AUS', 'AZE', 'BHZ', 'BEL', 'BUL',\n",
       "       'BRA', 'BLR', 'CAN', 'SWI', 'IVO', 'CHI', 'CYP', 'CZR', 'GER',\n",
       "       'DEN', 'ALG', 'EST', 'EGY', 'SPA', 'FIN', 'FRA', 'UK', 'GEO',\n",
       "       'GRE', 'HK', 'CRO', 'HUN', 'INO', 'IRE', 'ISR', 'IND', 'IRQ',\n",
       "       'IRN', 'ITA', 'JOR', 'JAP', 'KEN', 'KRG', 'KAZ', 'LIT', 'LUX',\n",
       "       'LTV', 'MOR', 'MTG', 'MCD', 'BUR', 'MLT', 'MAL', 'NET', 'NOR',\n",
       "       'NZ', 'PHI', 'PAK', 'POL', 'PUE', 'POR', 'ROM', 'SER', 'RUS',\n",
       "       'SAU', 'SEY', 'SWE', 'SIN', 'SLO', 'SLK', 'THA', 'TUR', 'TAI',\n",
       "       'UKR', 'USA', 'UZB', 'VIE', 'KSV', 'SAF'], dtype=object)"
      ]
     },
     "execution_count": 80,
     "metadata": {},
     "output_type": "execute_result"
    }
   ],
   "source": [
    "yt_uv_country[(yt_uv_country['ServiceID'] == 'SER') & \n",
    "        (yt_uv_country['w/c'] == '2024-04-01') ].PlaceID.unique()"
   ]
  },
  {
   "cell_type": "code",
   "execution_count": null,
   "id": "81cb0d0a-21d5-4f94-bc3b-c45fba496654",
   "metadata": {},
   "outputs": [],
   "source": []
  }
 ],
 "metadata": {
  "kernelspec": {
   "display_name": "Python (venv)",
   "language": "python",
   "name": "venv"
  },
  "language_info": {
   "codemirror_mode": {
    "name": "ipython",
    "version": 3
   },
   "file_extension": ".py",
   "mimetype": "text/x-python",
   "name": "python",
   "nbconvert_exporter": "python",
   "pygments_lexer": "ipython3",
   "version": "3.11.3"
  }
 },
 "nbformat": 4,
 "nbformat_minor": 5
}
