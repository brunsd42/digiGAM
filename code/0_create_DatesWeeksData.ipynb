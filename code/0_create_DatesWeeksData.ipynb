{
 "cells": [
  {
   "cell_type": "code",
   "execution_count": 5,
   "id": "1fd07193-7d41-4af1-9a99-e63524543f49",
   "metadata": {},
   "outputs": [],
   "source": [
    "import pandas as pd \n",
    "\n",
    "from datetime import datetime, timedelta\n",
    "from config_GAM2025 import gam_info"
   ]
  },
  {
   "cell_type": "code",
   "execution_count": 6,
   "id": "6127db65-07f9-4e49-9a87-f4e336aaf512",
   "metadata": {},
   "outputs": [
    {
     "name": "stdout",
     "output_type": "stream",
     "text": [
      "The sheet 'GAM Period' in 'helper/DigitalGAM2025_Lookup.xlsx' has been updated successfully.\n"
     ]
    }
   ],
   "source": [
    "# Access the start and end dates\n",
    "start_date = datetime.strptime(gam_info['w/c_start'], '%Y-%m-%d')\n",
    "end_date = datetime.strptime(gam_info['w/c_end'], '%Y-%m-%d')\n",
    "\n",
    "# Initialize an empty list to store the data\n",
    "data = []\n",
    "\n",
    "# Loop through each week in the fiscal year\n",
    "current_date = start_date\n",
    "week_number = 1\n",
    "\n",
    "while current_date <= end_date:\n",
    "    # Find the Monday and Friday of the current week\n",
    "    monday = current_date - timedelta(days=current_date.weekday())\n",
    "    sunday = monday + timedelta(days=6)\n",
    "    week_number = monday.isocalendar()[1]\n",
    "    year = monday.year\n",
    "\n",
    "    # Append the data to the list\n",
    "    data.append({\n",
    "        'Week Number': week_number,\n",
    "        'Year': year,\n",
    "        'w/c': monday.strftime('%Y-%m-%d'),\n",
    "        'week_ending': sunday.strftime('%Y-%m-%d')\n",
    "    })\n",
    "    \n",
    "    # Move to the next week\n",
    "    current_date = monday + timedelta(days=7)\n",
    "    week_number += 1\n",
    "\n",
    "# Create a DataFrame from the data\n",
    "df = pd.DataFrame(data)\n",
    "\n",
    "# Load the existing Excel file\n",
    "file_path = f\"helper/{gam_info['lookup_file']}\"\n",
    "sheet_name = 'GAM Period'\n",
    "# Load the existing Excel file and update the sheet\n",
    "with pd.ExcelWriter(file_path, engine='openpyxl', mode='a', if_sheet_exists='replace') as writer:\n",
    "    df.to_excel(writer, sheet_name=sheet_name, index=False, )\n",
    "\n",
    "print(f\"The sheet '{sheet_name}' in '{file_path}' has been updated successfully.\")"
   ]
  },
  {
   "cell_type": "code",
   "execution_count": null,
   "id": "f6a4dac7-777b-4463-9b8b-a0ceee64995e",
   "metadata": {},
   "outputs": [],
   "source": []
  },
  {
   "cell_type": "code",
   "execution_count": null,
   "id": "90df1d5b-09e0-440a-a300-72eeeac62735",
   "metadata": {},
   "outputs": [],
   "source": []
  }
 ],
 "metadata": {
  "kernelspec": {
   "display_name": "Python (venv)",
   "language": "python",
   "name": "venv"
  },
  "language_info": {
   "codemirror_mode": {
    "name": "ipython",
    "version": 3
   },
   "file_extension": ".py",
   "mimetype": "text/x-python",
   "name": "python",
   "nbconvert_exporter": "python",
   "pygments_lexer": "ipython3",
   "version": "3.11.3"
  }
 },
 "nbformat": 4,
 "nbformat_minor": 5
}
