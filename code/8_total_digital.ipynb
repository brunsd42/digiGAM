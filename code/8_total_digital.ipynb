{
 "cells": [
  {
   "cell_type": "code",
   "execution_count": 1,
   "id": "cff6d787-4ef3-4b75-ae48-17234733d647",
   "metadata": {},
   "outputs": [],
   "source": [
    "import pandas as pd \n",
    "import missingno as msno\n",
    "import numpy as np\n",
    "from scipy.stats import zscore\n"
   ]
  },
  {
   "cell_type": "code",
   "execution_count": 2,
   "id": "089b712a-26c4-4ece-a3a2-edcee04184f8",
   "metadata": {},
   "outputs": [],
   "source": [
    "from config_GAM2025 import gam_info\n",
    "\n",
    "import test_functions \n",
    "import functions "
   ]
  },
  {
   "cell_type": "code",
   "execution_count": 3,
   "id": "53933efb-35aa-4fd6-b8d6-2d310143406b",
   "metadata": {},
   "outputs": [],
   "source": [
    "# country\n",
    "pop_size_col = 'Population Size (We are social)'\n",
    "pop_size_col = 'Population2020'\n",
    "\n",
    "country_codes_cols = ['PlaceID', pop_size_col]\n",
    "country_codes = pd.read_excel(f\"../../{gam_info['lookup_file']}\", sheet_name='CountryID')[country_codes_cols]\n",
    "\n",
    "# week \n",
    "week_tester = pd.read_excel(f\"../../{gam_info['lookup_file']}\", sheet_name='GAM Period',)\n",
    "week_tester['w/c'] = pd.to_datetime(week_tester['w/c'])\n",
    "\n",
    "service_tester = pd.read_excel(f\"../../{gam_info['lookup_file']}\", sheet_name='ServiceID',)\n",
    "\n",
    "platform_tester = pd.read_excel(f\"../../{gam_info['lookup_file']}\", sheet_name='PlatformID',)"
   ]
  },
  {
   "cell_type": "code",
   "execution_count": 4,
   "id": "4665629e-e789-45ca-a887-70d8aef49dff",
   "metadata": {},
   "outputs": [],
   "source": [
    "# TODO Add tests (recognising all services, countries, platforms) to all the overlap sheets that are used here \n",
    "# overlap\n",
    "overlap_nonHeavy = pd.read_excel(\"helper/Final Overlaps 2021.xlsx\", sheet_name='non heavy')\n",
    "overlap_nonHeavy = overlap_nonHeavy.rename(columns={'Week': 'WeekNumber_finYear', \n",
    "                                                    'Service Code': 'ServiceID', \n",
    "                                                    'GeoCode': 'PlaceID'})\n",
    "# ASK MINNIE WHY THE SHEET HAS MORE THAN ONE VALUE PER SERVICE/PLACE/WEEK\n",
    "overlap_nonHeavy = overlap_nonHeavy.drop_duplicates(subset=['PlaceID', 'ServiceID', 'WeekNumber_finYear'], \n",
    "                                                    keep='first')\n",
    "overlap_nonHeavy = overlap_nonHeavy.merge(week_tester[['w/c', 'WeekNumber_finYear']], \n",
    "                                          on='WeekNumber_finYear', \n",
    "                                          how='outer').drop(columns=['WeekNumber_finYear'])\n",
    "\n",
    "overlap_nonHeavyAdd = pd.read_excel(\"helper/Final Overlaps 2021.xlsx\", sheet_name='non heav additional')\n",
    "overlap_nonHeavyAdd = overlap_nonHeavyAdd.rename(columns={'GeoCode': 'PlaceID'})\n",
    "\n",
    "overlap_SocWebOverlap = pd.read_excel(\"helper/Final Overlaps 2021.xlsx\", sheet_name='SocWebOverlap').drop_duplicates()\n",
    "overlap_SocWebOverlap['PlaceID'] = overlap_SocWebOverlap['PlaceID'].replace('MYT', 'MAY').replace('WLF', 'WFI')\n",
    "overlap_SocWebOverlap = overlap_SocWebOverlap.merge(country_codes, on='PlaceID', how='left')\n",
    "\n",
    "overlap_referral = pd.read_excel(\"helper/Final Overlaps 2021.xlsx\", sheet_name='Referrals').drop_duplicates()\n",
    "overlap_referral = overlap_referral.rename(columns={'Week Number': 'WeekNumber_finYear', \n",
    "                                                    'ServiceID': 'ServiceID', \n",
    "                                                    'Country Code': 'PlaceID',\n",
    "                                                    '% Social': '%_AnalyticsSocialOverlap'})\n",
    "overlap_referral = overlap_referral.merge(week_tester[['w/c', 'WeekNumber_finYear']], \n",
    "                                          on='WeekNumber_finYear', \n",
    "                                          how='outer').drop(columns=['WeekNumber_finYear'])\n",
    "\n",
    "analytics_socialOverlap = 0.397690544\n",
    "\n",
    "cols = ['PlaceID', 'digiGAM_FOA_WT-']\n",
    "africa_dedup_countries = pd.read_excel(f\"../../{gam_info['lookup_file']}\", sheet_name='CountryID')[cols]\n"
   ]
  },
  {
   "cell_type": "markdown",
   "id": "bf2e4df1-ff59-4e67-aafd-eee53707e115",
   "metadata": {},
   "source": [
    "# calculate CSS"
   ]
  },
  {
   "cell_type": "markdown",
   "id": "741c029f-7dc1-4551-b5a0-526f6002c9ff",
   "metadata": {
    "jp-MarkdownHeadingCollapsed": true
   },
   "source": [
    "## import data "
   ]
  },
  {
   "cell_type": "markdown",
   "id": "13deabd3-9fa3-4d9b-b459-f757f4f0391d",
   "metadata": {},
   "source": [
    "### site"
   ]
  },
  {
   "cell_type": "code",
   "execution_count": 5,
   "id": "5585653c-62df-4259-a1a5-8d1fe8e2650f",
   "metadata": {},
   "outputs": [
    {
     "name": "stdout",
     "output_type": "stream",
     "text": [
      "Fail - found not allowed values\n",
      "...updating logbook...\n",
      "\n",
      "Pass - found only allowed values\n",
      "...updating logbook...\n",
      "\n",
      "Pass - found only allowed values\n",
      "...updating logbook...\n",
      "\n",
      "Pass - found only allowed values\n",
      "...updating logbook...\n",
      "\n"
     ]
    }
   ],
   "source": [
    "cols = ['YearGAE', 'w/c', 'ServiceID', 'PlatformID', 'PlaceID', 'Reach']\n",
    "site_weekly_df = pd.read_csv(\"../data/singlePlatform/output/weekly/GAM2025_site_reach_weekly.csv\")[cols]\n",
    "site_weekly_df['w/c'] = pd.to_datetime(site_weekly_df['w/c'])\n",
    "site_weekly_df.head()\n",
    "\n",
    "test_columns = {\n",
    "    'PlaceID': country_codes['PlaceID'].tolist(),\n",
    "    'w/c': week_tester['w/c'].tolist(),\n",
    "    'ServiceID': service_tester['ServiceID'].tolist(),\n",
    "    'PlatformID': platform_tester['PlatformID'].tolist()\n",
    "}\n",
    "\n",
    "for i, (column, allowed_values) in enumerate(test_columns.items(), start=1):\n",
    "    label = f\"total_digi_{i}\"\n",
    "    test_functions.test_allowed_values(site_weekly_df, column, allowed_values, label, 'site_ingest')\n"
   ]
  },
  {
   "cell_type": "code",
   "execution_count": 6,
   "id": "116f739f-e32b-4f6b-8034-56e694679173",
   "metadata": {},
   "outputs": [
    {
     "name": "stdout",
     "output_type": "stream",
     "text": [
      "(1085576, 6)\n"
     ]
    },
    {
     "data": {
      "text/plain": [
       "(1085576, 6)"
      ]
     },
     "execution_count": 6,
     "metadata": {},
     "output_type": "execute_result"
    }
   ],
   "source": [
    "# are there any duplicates?\n",
    "print(site_weekly_df.shape)\n",
    "site_weekly_df.drop_duplicates().shape"
   ]
  },
  {
   "cell_type": "code",
   "execution_count": 7,
   "id": "1946afda-aaab-45ef-9a24-51df91170499",
   "metadata": {},
   "outputs": [
    {
     "data": {
      "text/plain": [
       "<Axes: >"
      ]
     },
     "execution_count": 7,
     "metadata": {},
     "output_type": "execute_result"
    },
    {
     "data": {
      "image/png": "[encoded data removed]",
      "text/plain": [
       "<Figure size 2500x1000 with 2 Axes>"
      ]
     },
     "metadata": {},
     "output_type": "display_data"
    }
   ],
   "source": [
    "# are any entries with missing values? \n",
    "msno.matrix(site_weekly_df)"
   ]
  },
  {
   "cell_type": "markdown",
   "id": "fc3a5ce8-d61b-45ec-a9b2-386199e705e1",
   "metadata": {},
   "source": [
    "### social"
   ]
  },
  {
   "cell_type": "code",
   "execution_count": 110,
   "id": "009f3cd1-cf0a-497e-a6e8-4834748af787",
   "metadata": {},
   "outputs": [
    {
     "data": {
      "text/html": [
       "<div>\n",
       "<style scoped>\n",
       "    .dataframe tbody tr th:only-of-type {\n",
       "        vertical-align: middle;\n",
       "    }\n",
       "\n",
       "    .dataframe tbody tr th {\n",
       "        vertical-align: top;\n",
       "    }\n",
       "\n",
       "    .dataframe thead th {\n",
       "        text-align: right;\n",
       "    }\n",
       "</style>\n",
       "<table border=\"1\" class=\"dataframe\">\n",
       "  <thead>\n",
       "    <tr style=\"text-align: right;\">\n",
       "      <th></th>\n",
       "      <th>YearGAE</th>\n",
       "      <th>w/c</th>\n",
       "      <th>ServiceID</th>\n",
       "      <th>PlaceID</th>\n",
       "      <th>Reach</th>\n",
       "    </tr>\n",
       "  </thead>\n",
       "  <tbody>\n",
       "    <tr>\n",
       "      <th>0</th>\n",
       "      <td>2025</td>\n",
       "      <td>2024-04-01</td>\n",
       "      <td>AFA</td>\n",
       "      <td>AFG</td>\n",
       "      <td>128.941558</td>\n",
       "    </tr>\n",
       "    <tr>\n",
       "      <th>1</th>\n",
       "      <td>2025</td>\n",
       "      <td>2024-04-01</td>\n",
       "      <td>AMH</td>\n",
       "      <td>AFG</td>\n",
       "      <td>60.770710</td>\n",
       "    </tr>\n",
       "    <tr>\n",
       "      <th>2</th>\n",
       "      <td>2025</td>\n",
       "      <td>2024-04-01</td>\n",
       "      <td>ARA</td>\n",
       "      <td>AFG</td>\n",
       "      <td>1734.448703</td>\n",
       "    </tr>\n",
       "    <tr>\n",
       "      <th>3</th>\n",
       "      <td>2025</td>\n",
       "      <td>2024-04-01</td>\n",
       "      <td>AZE</td>\n",
       "      <td>AFG</td>\n",
       "      <td>44.804629</td>\n",
       "    </tr>\n",
       "    <tr>\n",
       "      <th>4</th>\n",
       "      <td>2025</td>\n",
       "      <td>2024-04-01</td>\n",
       "      <td>BEN</td>\n",
       "      <td>AFG</td>\n",
       "      <td>622.201423</td>\n",
       "    </tr>\n",
       "    <tr>\n",
       "      <th>...</th>\n",
       "      <td>...</td>\n",
       "      <td>...</td>\n",
       "      <td>...</td>\n",
       "      <td>...</td>\n",
       "      <td>...</td>\n",
       "    </tr>\n",
       "    <tr>\n",
       "      <th>477206</th>\n",
       "      <td>2025</td>\n",
       "      <td>2025-03-24</td>\n",
       "      <td>ALL</td>\n",
       "      <td>WFI</td>\n",
       "      <td>0.745002</td>\n",
       "    </tr>\n",
       "    <tr>\n",
       "      <th>477207</th>\n",
       "      <td>2025</td>\n",
       "      <td>2025-03-24</td>\n",
       "      <td>ALL</td>\n",
       "      <td>YEM</td>\n",
       "      <td>394334.151988</td>\n",
       "    </tr>\n",
       "    <tr>\n",
       "      <th>477208</th>\n",
       "      <td>2025</td>\n",
       "      <td>2025-03-24</td>\n",
       "      <td>ALL</td>\n",
       "      <td>ZAI</td>\n",
       "      <td>129122.801669</td>\n",
       "    </tr>\n",
       "    <tr>\n",
       "      <th>477209</th>\n",
       "      <td>2025</td>\n",
       "      <td>2025-03-24</td>\n",
       "      <td>ALL</td>\n",
       "      <td>ZAM</td>\n",
       "      <td>192502.244905</td>\n",
       "    </tr>\n",
       "    <tr>\n",
       "      <th>477210</th>\n",
       "      <td>2025</td>\n",
       "      <td>2025-03-24</td>\n",
       "      <td>ALL</td>\n",
       "      <td>ZIM</td>\n",
       "      <td>48240.014279</td>\n",
       "    </tr>\n",
       "  </tbody>\n",
       "</table>\n",
       "<p>477211 rows × 5 columns</p>\n",
       "</div>"
      ],
      "text/plain": [
       "        YearGAE        w/c ServiceID PlaceID          Reach\n",
       "0          2025 2024-04-01       AFA     AFG     128.941558\n",
       "1          2025 2024-04-01       AMH     AFG      60.770710\n",
       "2          2025 2024-04-01       ARA     AFG    1734.448703\n",
       "3          2025 2024-04-01       AZE     AFG      44.804629\n",
       "4          2025 2024-04-01       BEN     AFG     622.201423\n",
       "...         ...        ...       ...     ...            ...\n",
       "477206     2025 2025-03-24       ALL     WFI       0.745002\n",
       "477207     2025 2025-03-24       ALL     YEM  394334.151988\n",
       "477208     2025 2025-03-24       ALL     ZAI  129122.801669\n",
       "477209     2025 2025-03-24       ALL     ZAM  192502.244905\n",
       "477210     2025 2025-03-24       ALL     ZIM   48240.014279\n",
       "\n",
       "[477211 rows x 5 columns]"
      ]
     },
     "execution_count": 110,
     "metadata": {},
     "output_type": "execute_result"
    }
   ],
   "source": [
    "social_weekly_df"
   ]
  },
  {
   "cell_type": "code",
   "execution_count": 111,
   "id": "0d3fc86c-a375-4c15-87d6-74e7e49a932b",
   "metadata": {},
   "outputs": [
    {
     "name": "stderr",
     "output_type": "stream",
     "text": [
      "/var/folders/gz/pq5c3fbj5rs1tz_5w1hycq4h0000gn/T/ipykernel_56513/1686071420.py:1: DtypeWarning: Columns (6) have mixed types. Specify dtype option on import or set low_memory=False.\n",
      "  social_weekly_df = pd.read_csv(\"../data/interim/mk_wsc_social_weekly_data.csv\")\n"
     ]
    },
    {
     "name": "stdout",
     "output_type": "stream",
     "text": [
      "Pass - found only allowed values\n",
      "...updating logbook...\n",
      "\n",
      "Pass - found only allowed values\n",
      "...updating logbook...\n",
      "\n",
      "Pass - found only allowed values\n",
      "...updating logbook...\n",
      "\n",
      "Pass - found only allowed values\n",
      "...updating logbook...\n",
      "\n"
     ]
    },
    {
     "data": {
      "text/html": [
       "<div>\n",
       "<style scoped>\n",
       "    .dataframe tbody tr th:only-of-type {\n",
       "        vertical-align: middle;\n",
       "    }\n",
       "\n",
       "    .dataframe tbody tr th {\n",
       "        vertical-align: top;\n",
       "    }\n",
       "\n",
       "    .dataframe thead th {\n",
       "        text-align: right;\n",
       "    }\n",
       "</style>\n",
       "<table border=\"1\" class=\"dataframe\">\n",
       "  <thead>\n",
       "    <tr style=\"text-align: right;\">\n",
       "      <th></th>\n",
       "      <th>ServiceID</th>\n",
       "      <th>PlaceID</th>\n",
       "      <th>PlatformID</th>\n",
       "      <th>w/c</th>\n",
       "      <th>YearGAE</th>\n",
       "      <th>Reach</th>\n",
       "    </tr>\n",
       "  </thead>\n",
       "  <tbody>\n",
       "    <tr>\n",
       "      <th>0</th>\n",
       "      <td>AFA</td>\n",
       "      <td>AFG</td>\n",
       "      <td>WSC</td>\n",
       "      <td>2024-04-01</td>\n",
       "      <td>2025</td>\n",
       "      <td>128.941558</td>\n",
       "    </tr>\n",
       "    <tr>\n",
       "      <th>1</th>\n",
       "      <td>AMH</td>\n",
       "      <td>AFG</td>\n",
       "      <td>WSC</td>\n",
       "      <td>2024-04-01</td>\n",
       "      <td>2025</td>\n",
       "      <td>60.770710</td>\n",
       "    </tr>\n",
       "    <tr>\n",
       "      <th>2</th>\n",
       "      <td>ARA</td>\n",
       "      <td>AFG</td>\n",
       "      <td>WSC</td>\n",
       "      <td>2024-04-01</td>\n",
       "      <td>2025</td>\n",
       "      <td>1734.448703</td>\n",
       "    </tr>\n",
       "    <tr>\n",
       "      <th>3</th>\n",
       "      <td>AZE</td>\n",
       "      <td>AFG</td>\n",
       "      <td>WSC</td>\n",
       "      <td>2024-04-01</td>\n",
       "      <td>2025</td>\n",
       "      <td>44.804629</td>\n",
       "    </tr>\n",
       "    <tr>\n",
       "      <th>4</th>\n",
       "      <td>BEN</td>\n",
       "      <td>AFG</td>\n",
       "      <td>WSC</td>\n",
       "      <td>2024-04-01</td>\n",
       "      <td>2025</td>\n",
       "      <td>622.201423</td>\n",
       "    </tr>\n",
       "  </tbody>\n",
       "</table>\n",
       "</div>"
      ],
      "text/plain": [
       "  ServiceID PlaceID PlatformID        w/c  YearGAE        Reach\n",
       "0       AFA     AFG        WSC 2024-04-01     2025   128.941558\n",
       "1       AMH     AFG        WSC 2024-04-01     2025    60.770710\n",
       "2       ARA     AFG        WSC 2024-04-01     2025  1734.448703\n",
       "3       AZE     AFG        WSC 2024-04-01     2025    44.804629\n",
       "4       BEN     AFG        WSC 2024-04-01     2025   622.201423"
      ]
     },
     "execution_count": 111,
     "metadata": {},
     "output_type": "execute_result"
    }
   ],
   "source": [
    "social_weekly_df = pd.read_csv(\"../data/interim/mk_wsc_social_weekly_data.csv\")\n",
    "\n",
    "social_weekly_df['Service Code'] = social_weekly_df['Service Code'].replace(\"FAR\", \"PER\") \n",
    "social_weekly_df = social_weekly_df.rename(columns={'Week Number': 'WeekNumber_finYear',\n",
    "                                                    'Country Code': 'PlaceID',\n",
    "                                                    'Service Code': 'ServiceID',\n",
    "                                                    'Platform Code': 'PlatformID',})\n",
    "social_weekly_df = social_weekly_df.merge(week_tester[['w/c', 'WeekNumber_finYear']], \n",
    "                                          on='WeekNumber_finYear', how='outer').drop(columns=['WeekNumber_finYear'])\n",
    "social_weekly_df['YearGAE'] = gam_info['YearGAE']\n",
    "social_weekly_df = social_weekly_df[['ServiceID', 'PlaceID', 'PlatformID', 'w/c', 'YearGAE', 'Reach']]\n",
    "\n",
    "\n",
    "test_columns = {\n",
    "    'PlaceID': country_codes['PlaceID'].tolist(),\n",
    "    'w/c': week_tester['w/c'].tolist(),\n",
    "    'ServiceID': service_tester['ServiceID'].tolist(),\n",
    "    'PlatformID': platform_tester['PlatformID'].tolist()\n",
    "}\n",
    "\n",
    "for i, (column, allowed_values) in enumerate(test_columns.items(), start=5):\n",
    "    label = f\"total_digi_{i}\"\n",
    "    test_functions.test_allowed_values(social_weekly_df, column, allowed_values, label, 'social_ingest')\n",
    "social_weekly_df.head()"
   ]
  },
  {
   "cell_type": "markdown",
   "id": "3c329c8c-5e0a-4cf9-ba28-b97db94ff4ca",
   "metadata": {},
   "source": [
    "### combine site & social"
   ]
  },
  {
   "cell_type": "code",
   "execution_count": 112,
   "id": "f7d66965-5cdd-4dbd-95f9-c56916033bbe",
   "metadata": {},
   "outputs": [
    {
     "data": {
      "text/html": [
       "<div>\n",
       "<style scoped>\n",
       "    .dataframe tbody tr th:only-of-type {\n",
       "        vertical-align: middle;\n",
       "    }\n",
       "\n",
       "    .dataframe tbody tr th {\n",
       "        vertical-align: top;\n",
       "    }\n",
       "\n",
       "    .dataframe thead th {\n",
       "        text-align: right;\n",
       "    }\n",
       "</style>\n",
       "<table border=\"1\" class=\"dataframe\">\n",
       "  <thead>\n",
       "    <tr style=\"text-align: right;\">\n",
       "      <th>PlatformID</th>\n",
       "      <th>YearGAE</th>\n",
       "      <th>w/c</th>\n",
       "      <th>ServiceID</th>\n",
       "      <th>PlaceID</th>\n",
       "      <th>WDI</th>\n",
       "      <th>WIN</th>\n",
       "      <th>WSC</th>\n",
       "      <th>WWW</th>\n",
       "    </tr>\n",
       "  </thead>\n",
       "  <tbody>\n",
       "    <tr>\n",
       "      <th>2591</th>\n",
       "      <td>2025</td>\n",
       "      <td>2024-04-01</td>\n",
       "      <td>EN2</td>\n",
       "      <td>LES</td>\n",
       "      <td>2778.278049</td>\n",
       "      <td>0.000000</td>\n",
       "      <td>2768.830146</td>\n",
       "      <td>2784.315277</td>\n",
       "    </tr>\n",
       "    <tr>\n",
       "      <th>247520</th>\n",
       "      <td>2025</td>\n",
       "      <td>2024-09-09</td>\n",
       "      <td>INO</td>\n",
       "      <td>UKR</td>\n",
       "      <td>9.671975</td>\n",
       "      <td>3.352602</td>\n",
       "      <td>13.160268</td>\n",
       "      <td>13.504355</td>\n",
       "    </tr>\n",
       "    <tr>\n",
       "      <th>68463</th>\n",
       "      <td>2025</td>\n",
       "      <td>2024-05-13</td>\n",
       "      <td>KRW</td>\n",
       "      <td>BOL</td>\n",
       "      <td>0.904833</td>\n",
       "      <td>0.000000</td>\n",
       "      <td>0.000000</td>\n",
       "      <td>0.904833</td>\n",
       "    </tr>\n",
       "    <tr>\n",
       "      <th>55891</th>\n",
       "      <td>2025</td>\n",
       "      <td>2024-05-06</td>\n",
       "      <td>ENW</td>\n",
       "      <td>BIO</td>\n",
       "      <td>1.732044</td>\n",
       "      <td>0.000000</td>\n",
       "      <td>1.403287</td>\n",
       "      <td>1.732044</td>\n",
       "    </tr>\n",
       "    <tr>\n",
       "      <th>461128</th>\n",
       "      <td>2025</td>\n",
       "      <td>2025-01-27</td>\n",
       "      <td>SOM</td>\n",
       "      <td>IRE</td>\n",
       "      <td>488.695838</td>\n",
       "      <td>0.000000</td>\n",
       "      <td>204.533197</td>\n",
       "      <td>488.695838</td>\n",
       "    </tr>\n",
       "  </tbody>\n",
       "</table>\n",
       "</div>"
      ],
      "text/plain": [
       "PlatformID  YearGAE        w/c ServiceID PlaceID          WDI       WIN  \\\n",
       "2591           2025 2024-04-01       EN2     LES  2778.278049  0.000000   \n",
       "247520         2025 2024-09-09       INO     UKR     9.671975  3.352602   \n",
       "68463          2025 2024-05-13       KRW     BOL     0.904833  0.000000   \n",
       "55891          2025 2024-05-06       ENW     BIO     1.732044  0.000000   \n",
       "461128         2025 2025-01-27       SOM     IRE   488.695838  0.000000   \n",
       "\n",
       "PlatformID          WSC          WWW  \n",
       "2591        2768.830146  2784.315277  \n",
       "247520        13.160268    13.504355  \n",
       "68463          0.000000     0.904833  \n",
       "55891          1.403287     1.732044  \n",
       "461128       204.533197   488.695838  "
      ]
     },
     "execution_count": 112,
     "metadata": {},
     "output_type": "execute_result"
    }
   ],
   "source": [
    "site_social_df = pd.concat([site_weekly_df, social_weekly_df])\n",
    "site_social_df['w/c'] = pd.to_datetime(site_social_df['w/c'])\n",
    "site_social_df = site_social_df.pivot(index=['YearGAE', 'w/c', 'ServiceID', 'PlaceID'],\n",
    "                                      columns=\"PlatformID\", values=\"Reach\").fillna(0).reset_index()\n",
    "site_social_df.sample(5)"
   ]
  },
  {
   "cell_type": "code",
   "execution_count": 113,
   "id": "f27fc9ab-12a9-4807-b79d-d3d8016eefee",
   "metadata": {
    "scrolled": true
   },
   "outputs": [],
   "source": [
    "non_MA_WOR = site_social_df[~site_social_df['ServiceID'].isin(['WOR', 'MA-'])]\n",
    "\n",
    "exclude_ids = ['WOR', 'MA-', \n",
    "               'ENG', 'EN2', 'ENW', \n",
    "               'ANW', 'TOT', 'AX2', 'ANY', 'ALL', ]\n",
    "ws_site_social = site_social_df[~site_social_df['ServiceID'].isin(exclude_ids)]\n",
    "\n",
    "\n",
    "ma_wor_df = site_social_df[site_social_df['ServiceID'].isin(['WOR', 'MA-'])]\n"
   ]
  },
  {
   "cell_type": "markdown",
   "id": "5e005913-a146-477b-b330-f98ee7092a10",
   "metadata": {
    "jp-MarkdownHeadingCollapsed": true
   },
   "source": [
    "## WSL"
   ]
  },
  {
   "cell_type": "markdown",
   "id": "ff105626-0091-4fc7-814c-ac59b2d5c6c6",
   "metadata": {},
   "source": [
    "### determine & handle outlier"
   ]
  },
  {
   "cell_type": "code",
   "execution_count": 114,
   "id": "79656a7a-8c9b-4834-af2f-fafbb4762fb2",
   "metadata": {},
   "outputs": [
    {
     "name": "stderr",
     "output_type": "stream",
     "text": [
      "/var/folders/gz/pq5c3fbj5rs1tz_5w1hycq4h0000gn/T/ipykernel_56513/2915995770.py:10: DeprecationWarning: DataFrameGroupBy.apply operated on the grouping columns. This behavior is deprecated, and in a future version of pandas the grouping columns will be excluded from the operation. Either pass `include_groups=False` to exclude the groupings or explicitly select the grouping columns after groupby to silence this warning.\n",
      "  outlier_df = grouped.groupby('ServiceID', group_keys=False).apply(compute_zscores)\n"
     ]
    }
   ],
   "source": [
    "# Group by 'service' and 'w/c', summing the numerical columns\n",
    "grouped = ws_site_social.groupby(['ServiceID', 'w/c'], as_index=False)[['WSC', 'WDI']].sum()\n",
    "\n",
    "# Compute Z-scores within each 'service' group\n",
    "def compute_zscores(group):\n",
    "    group['WSC_z'] = (group['WSC'] - group['WSC'].mean()) / group['WSC'].std(ddof=1)\n",
    "    group['WDI_z'] = (group['WDI'] - group['WDI'].mean()) / group['WDI'].std(ddof=1)\n",
    "    return group\n",
    "\n",
    "outlier_df = grouped.groupby('ServiceID', group_keys=False).apply(compute_zscores)\n",
    "outlier_df = outlier_df[(outlier_df['WSC_z'] > 1.96) | (outlier_df['WDI_z'] > 1.96)]\n",
    "outlier_df = outlier_df[['w/c', 'ServiceID']]\n"
   ]
  },
  {
   "cell_type": "code",
   "execution_count": 115,
   "id": "10bc7c4b-dc3a-411c-b40e-5118fdbf4ace",
   "metadata": {},
   "outputs": [],
   "source": [
    "# 2. Identify outliers and non-outliers\n",
    "merged_outlier = ws_site_social.merge(outlier_df, on=['w/c', 'ServiceID'], how='outer', \n",
    "                                   indicator=True)\n"
   ]
  },
  {
   "cell_type": "code",
   "execution_count": 116,
   "id": "f6eb3d3f-c2a2-4b81-b5ab-3171dd4f7848",
   "metadata": {},
   "outputs": [
    {
     "name": "stdout",
     "output_type": "stream",
     "text": [
      "(31377, 9)\n",
      "(31377, 9)\n",
      "(31377, 10)\n",
      "(31377, 30)\n"
     ]
    }
   ],
   "source": [
    "outliers = merged_outlier[merged_outlier['_merge'] == 'both']\n",
    "print(outliers.shape)\n",
    "\n",
    "# 3. Check for overlap with non-heavy overlaps\n",
    "outliers = outliers.drop(columns=['_merge'])\n",
    "outliers = outliers.merge(overlap_nonHeavy.rename(columns={'Non Heavy - Month': 'NonHeavy1'}), \n",
    "                                 on=['ServiceID', 'PlaceID', 'w/c'], \n",
    "                                 how='left')\n",
    "print(outliers.shape)\n",
    "\n",
    "# 4. Add additional overlap info\n",
    "outliers = outliers.merge(overlap_nonHeavyAdd.rename(columns={'Avg_%': 'NonHeavy2'}), \n",
    "                                        on='PlaceID', \n",
    "                                        how='left')\n",
    "print(outliers.shape)\n",
    "\n",
    "outliers['NonHeavy3'] = 0.593887\n",
    "outliers['%_NonHeavy'] = np.where(outliers['NonHeavy1'].notna(), \n",
    "                                         outliers['NonHeavy1'],\n",
    "                                         np.where(outliers['NonHeavy2'].notna(), \n",
    "                                                  outliers['NonHeavy2'], \n",
    "                                                  outliers['NonHeavy3']))\n",
    "outliers = outliers.drop(columns=['NonHeavy1', 'NonHeavy2', 'NonHeavy3'])\n",
    "\n",
    "outliers['NonHeavyWDI'] = outliers['WDI'] * outliers['%_NonHeavy']\n",
    "outliers['HeavyWDI'] = outliers['WDI'] * (1-outliers['%_NonHeavy'])\n",
    "\n",
    "outliers['NonHeavyWSC'] = outliers['WSC'] * outliers['%_NonHeavy']\n",
    "outliers['HeavyWSC'] = outliers['WSC'] * (1-outliers['%_NonHeavy'])\n",
    "\n",
    "# be aware - PCN is missing \n",
    "outliers = outliers.merge(overlap_SocWebOverlap, on='PlaceID', how='left')\n",
    "print(outliers.shape)\n",
    "\n",
    "# Apply to your DataFrame\n",
    "outliers = functions.sainsbury_formula(outliers, 'Population 2020', ['NonHeavyWDI', 'NonHeavyWSC'], 'NonHeavy_WSC_WDI')\n",
    "\n",
    "# BUFFER\n",
    "def compute_heavy_combined(row):\n",
    "    heavy_wdi = row['HeavyWDI']\n",
    "    heavy_wsc = row['HeavyWSC']\n",
    "    social_inc = row['Social Incremental']\n",
    "    site_inc = row['Web']\n",
    "    \n",
    "    if heavy_wdi > heavy_wsc:\n",
    "        return heavy_wdi + heavy_wsc * social_inc\n",
    "    else:\n",
    "        return heavy_wsc + heavy_wdi * site_inc\n",
    "\n",
    "# Apply to your DataFrame\n",
    "outliers['BUFFER_Heavy_WSC_WDI'] = outliers.apply(compute_heavy_combined, axis=1)\n",
    "outliers['Buffer_WSC_WDI'] = outliers['NonHeavy_WSC_WDI'] + outliers['BUFFER_Heavy_WSC_WDI']\n",
    "outliers['Heavy_WSC_WDI'] = (outliers['HeavyWSC'] + outliers['HeavyWDI']) * outliers['Own Web & Social Factor']\n",
    "outliers['WSC_WDI'] = outliers['Heavy_WSC_WDI'] + outliers['NonHeavy_WSC_WDI']\n",
    "\n",
    "def compute_wsc_wdi_buffer(row):\n",
    "    wsc_wdi = row['WSC_WDI']\n",
    "    wdi = row['WDI']\n",
    "    wsc = row['WSC']\n",
    "    buffer = row['Buffer_WSC_WDI']\n",
    "    \n",
    "    if wsc_wdi < wdi:\n",
    "        return buffer\n",
    "    elif wsc_wdi < wsc:\n",
    "        return buffer\n",
    "    else:\n",
    "        return wsc_wdi\n",
    "\n",
    "# Apply to your DataFrame\n",
    "outliers['WSC_WDI'] = outliers.apply(compute_wsc_wdi_buffer, axis=1)\n",
    "outliers = outliers[['PlaceID', 'ServiceID', 'YearGAE', 'w/c', \n",
    "                     'WDI', 'WIN', 'WSC', 'WWW', \n",
    "                     'WSC_WDI']]"
   ]
  },
  {
   "cell_type": "markdown",
   "id": "5e38d32e-772d-4e24-ba6d-1f1f82c4cd29",
   "metadata": {},
   "source": [
    "### handle non outlier"
   ]
  },
  {
   "cell_type": "code",
   "execution_count": 117,
   "id": "6845a31d-1254-4619-a0e9-cf91e166077a",
   "metadata": {},
   "outputs": [],
   "source": [
    "no_outliers = merged_outlier[merged_outlier['_merge'] == 'left_only']\n",
    "overlap_cols = ['PlaceID', pop_size_col, 'Own Web & Social Factor', 'Web', 'Social Incremental']\n",
    "no_outliers = no_outliers.merge(overlap_SocWebOverlap[overlap_cols], on='PlaceID', how='left')\n",
    "\n",
    "\n",
    "def compute_web_social_value(row):\n",
    "    wdi = row['WDI']\n",
    "    wsc = row['WSC']\n",
    "    factor = row['Own Web & Social Factor']\n",
    "    \n",
    "    if wsc == 0:\n",
    "        return wdi\n",
    "    elif wdi == 0:\n",
    "        return wsc\n",
    "    else:\n",
    "        return (wdi + wsc) * factor\n",
    "\n",
    "# Apply to your DataFrame\n",
    "no_outliers['NewTapestryDigi'] = no_outliers.apply(compute_web_social_value, axis=1)\n",
    "\n",
    "def compute_web_social_mix(row):\n",
    "    wdi = row['WDI']\n",
    "    wsc = row['WSC']\n",
    "    web = row['Web']\n",
    "    social_inc = row['Social Incremental']\n",
    "    \n",
    "    if wsc > wdi:\n",
    "        return wsc + wdi * web\n",
    "    else:\n",
    "        return wdi + wsc * social_inc\n",
    "\n",
    "# Apply to your DataFrame\n",
    "no_outliers['BufferForTapestry'] = no_outliers.apply(compute_web_social_mix, axis=1)\n",
    "\n",
    "\n",
    "def compute_tapestry_buffer(row):\n",
    "    digi = row['NewTapestryDigi']\n",
    "    wsc = row['WSC']\n",
    "    wdi = row['WDI']\n",
    "    buffer = row['BufferForTapestry']\n",
    "    \n",
    "    if digi < wsc:\n",
    "        return buffer\n",
    "    elif digi < wdi:\n",
    "        return buffer\n",
    "    else:\n",
    "        return digi\n",
    "\n",
    "# Apply to your DataFrame\n",
    "\n",
    "no_outliers['WSC_WDI'] = no_outliers.apply(compute_tapestry_buffer, axis=1)\n",
    "no_outliers = no_outliers[['PlaceID', 'ServiceID', 'YearGAE', 'w/c',\n",
    "                           'WDI', 'WIN', 'WSC', 'WWW',\n",
    "                           'WSC_WDI']]"
   ]
  },
  {
   "cell_type": "markdown",
   "id": "b9812622-3ee9-45a9-be25-df150cd71f69",
   "metadata": {},
   "source": [
    "### calculate WT-"
   ]
  },
  {
   "cell_type": "code",
   "execution_count": 118,
   "id": "698568db-0310-4eae-94f5-7802d7c69b14",
   "metadata": {},
   "outputs": [
    {
     "name": "stdout",
     "output_type": "stream",
     "text": [
      "Check1\n",
      "FINE    329882\n",
      "FLAG     98311\n",
      "Name: count, dtype: int64\n"
     ]
    }
   ],
   "source": [
    "ws_site_social_postOutlier = pd.concat([outliers, no_outliers])\n",
    "ws_site_social_postOutlier['%_OverlapWithOwnSite'] = ((ws_site_social_postOutlier['WSC'] +\n",
    "                                                     ws_site_social_postOutlier['WDI']) -\n",
    "                                                    ws_site_social_postOutlier['WSC_WDI'])/ws_site_social_postOutlier['WDI']\n",
    "\n",
    "ws_site_social_postOutlier = ws_site_social_postOutlier.merge(overlap_referral, \n",
    "                                                              on=['PlaceID', 'ServiceID', 'w/c'],\n",
    "                                                              how='left', indicator=True)\n",
    "\n",
    "ws_site_social_postOutlier['%_AnalyticsSocialOverlap'] = ws_site_social_postOutlier['%_AnalyticsSocialOverlap'].fillna(analytics_socialOverlap)\n",
    "\n",
    "\n",
    "def compute_site_overlap_adjustment(row):\n",
    "    site_overlap = row['%_OverlapWithOwnSite']\n",
    "    analytics_overlap = row['%_AnalyticsSocialOverlap']\n",
    "    wdi = row['WDI']\n",
    "    wsc = row['WSC']\n",
    "    wsc_wdi = row['WSC_WDI']\n",
    "    \n",
    "    if site_overlap < analytics_overlap:\n",
    "        return (wdi + wsc) - (wdi * analytics_overlap)\n",
    "    else:\n",
    "        return wsc_wdi\n",
    "ws_site_social_postOutlier['Pegged_WSC_WDI'] = ws_site_social_postOutlier.apply(compute_site_overlap_adjustment, axis=1)\n",
    "\n",
    "def flag_pegged_wsc_wdi(row):\n",
    "    pegged = row['Pegged_WSC_WDI']\n",
    "    wsc = row['WSC']\n",
    "    wdi = row['WDI']\n",
    "    \n",
    "    if pegged < wsc:\n",
    "        return \"FLAG\"\n",
    "    elif pegged < wdi:\n",
    "        return \"FLAG\"\n",
    "    else:\n",
    "        return \"FINE\"\n",
    "ws_site_social_postOutlier['Check1'] = ws_site_social_postOutlier.apply(flag_pegged_wsc_wdi, axis=1)\n",
    "print(ws_site_social_postOutlier['Check1'].value_counts())\n",
    "\n",
    "def resolve_check_flag(row):\n",
    "    check = row['Check1']\n",
    "    wsc_wdi = row['WSC_WDI']\n",
    "    pegged = row['Pegged_WSC_WDI']\n",
    "    \n",
    "    if check == \"FLAG\":\n",
    "        return wsc_wdi\n",
    "    else:\n",
    "        return pegged\n",
    "\n",
    "# Apply to your DataFrame\n",
    "ws_site_social_postOutlier['final_WSC_WDI'] = ws_site_social_postOutlier.apply(resolve_check_flag, axis=1)\n",
    "\n",
    "def compute_incremental_partner_reach(row):\n",
    "    www = row['WWW']\n",
    "    win = row['WIN']\n",
    "    wdi = row['WDI']\n",
    "    final_wsc_wdi = row['final_WSC_WDI']\n",
    "    \n",
    "    if www > win:\n",
    "        return (www - wdi) + final_wsc_wdi\n",
    "    elif win == 0:\n",
    "        return final_wsc_wdi\n",
    "    elif final_wsc_wdi == 0:\n",
    "        return win\n",
    "    else:\n",
    "        return (www - wdi) + final_wsc_wdi\n",
    "\n",
    "# Apply to your DataFrame\n",
    "ws_site_social_postOutlier['Reach'] = ws_site_social_postOutlier.apply(compute_incremental_partner_reach, axis=1)"
   ]
  },
  {
   "cell_type": "code",
   "execution_count": 119,
   "id": "cf2a13bf-fe53-4f7d-b6db-721dee4403a7",
   "metadata": {},
   "outputs": [],
   "source": [
    "cols = ['YearGAE', 'w/c', 'ServiceID', 'PlaceID', 'Reach']\n",
    "weekly_ws_df =  ws_site_social_postOutlier[cols]"
   ]
  },
  {
   "cell_type": "code",
   "execution_count": 120,
   "id": "c756c22c-6392-46a3-aa96-c7adf129e93f",
   "metadata": {},
   "outputs": [
    {
     "data": {
      "text/html": [
       "<div>\n",
       "<style scoped>\n",
       "    .dataframe tbody tr th:only-of-type {\n",
       "        vertical-align: middle;\n",
       "    }\n",
       "\n",
       "    .dataframe tbody tr th {\n",
       "        vertical-align: top;\n",
       "    }\n",
       "\n",
       "    .dataframe thead th {\n",
       "        text-align: right;\n",
       "    }\n",
       "</style>\n",
       "<table border=\"1\" class=\"dataframe\">\n",
       "  <thead>\n",
       "    <tr style=\"text-align: right;\">\n",
       "      <th></th>\n",
       "      <th>YearGAE</th>\n",
       "      <th>w/c</th>\n",
       "      <th>ServiceID</th>\n",
       "      <th>PlaceID</th>\n",
       "      <th>Reach</th>\n",
       "    </tr>\n",
       "  </thead>\n",
       "  <tbody>\n",
       "  </tbody>\n",
       "</table>\n",
       "</div>"
      ],
      "text/plain": [
       "Empty DataFrame\n",
       "Columns: [YearGAE, w/c, ServiceID, PlaceID, Reach]\n",
       "Index: []"
      ]
     },
     "execution_count": 120,
     "metadata": {},
     "output_type": "execute_result"
    }
   ],
   "source": [
    "\n",
    "weekly_ws_df[(weekly_ws_df['PlaceID'] == 'AGU') & \n",
    "    (weekly_ws_df['w/c'] == '2024-04-29') & \n",
    "    (weekly_ws_df['ServiceID'] == 'FAR') \n",
    "    ]"
   ]
  },
  {
   "cell_type": "markdown",
   "id": "e57a2ec6-bef6-4fda-938b-b32e96bcfc08",
   "metadata": {},
   "source": [
    "### annual average"
   ]
  },
  {
   "cell_type": "code",
   "execution_count": 121,
   "id": "c26cb27d-bdff-4bd5-ad98-06885c53f642",
   "metadata": {},
   "outputs": [
    {
     "data": {
      "text/html": [
       "<div>\n",
       "<style scoped>\n",
       "    .dataframe tbody tr th:only-of-type {\n",
       "        vertical-align: middle;\n",
       "    }\n",
       "\n",
       "    .dataframe tbody tr th {\n",
       "        vertical-align: top;\n",
       "    }\n",
       "\n",
       "    .dataframe thead th {\n",
       "        text-align: right;\n",
       "    }\n",
       "</style>\n",
       "<table border=\"1\" class=\"dataframe\">\n",
       "  <thead>\n",
       "    <tr style=\"text-align: right;\">\n",
       "      <th></th>\n",
       "      <th>YearGAE</th>\n",
       "      <th>ServiceID</th>\n",
       "      <th>PlaceID</th>\n",
       "      <th>Reach</th>\n",
       "    </tr>\n",
       "  </thead>\n",
       "  <tbody>\n",
       "    <tr>\n",
       "      <th>0</th>\n",
       "      <td>2025</td>\n",
       "      <td>AFA</td>\n",
       "      <td>AFG</td>\n",
       "      <td>317.719140</td>\n",
       "    </tr>\n",
       "    <tr>\n",
       "      <th>1</th>\n",
       "      <td>2025</td>\n",
       "      <td>AFA</td>\n",
       "      <td>ALA</td>\n",
       "      <td>0.018762</td>\n",
       "    </tr>\n",
       "    <tr>\n",
       "      <th>2</th>\n",
       "      <td>2025</td>\n",
       "      <td>AFA</td>\n",
       "      <td>ALB</td>\n",
       "      <td>0.747131</td>\n",
       "    </tr>\n",
       "    <tr>\n",
       "      <th>3</th>\n",
       "      <td>2025</td>\n",
       "      <td>AFA</td>\n",
       "      <td>ALG</td>\n",
       "      <td>119.560583</td>\n",
       "    </tr>\n",
       "    <tr>\n",
       "      <th>4</th>\n",
       "      <td>2025</td>\n",
       "      <td>AFA</td>\n",
       "      <td>AND</td>\n",
       "      <td>0.055058</td>\n",
       "    </tr>\n",
       "  </tbody>\n",
       "</table>\n",
       "</div>"
      ],
      "text/plain": [
       "   YearGAE ServiceID PlaceID       Reach\n",
       "0     2025       AFA     AFG  317.719140\n",
       "1     2025       AFA     ALA    0.018762\n",
       "2     2025       AFA     ALB    0.747131\n",
       "3     2025       AFA     ALG  119.560583\n",
       "4     2025       AFA     AND    0.055058"
      ]
     },
     "execution_count": 121,
     "metadata": {},
     "output_type": "execute_result"
    }
   ],
   "source": [
    "annual_ws_df = weekly_ws_df.groupby(['YearGAE', 'ServiceID', 'PlaceID'])['Reach'].sum().reset_index()\n",
    "annual_ws_df['Reach'] = annual_ws_df['Reach'] / gam_info['number_of_weeks'] \n",
    "annual_ws_df.head()"
   ]
  },
  {
   "cell_type": "markdown",
   "id": "4d00611f-13b4-45a8-902d-965c018a246d",
   "metadata": {
    "jp-MarkdownHeadingCollapsed": true
   },
   "source": [
    "## MA & Studios"
   ]
  },
  {
   "cell_type": "code",
   "execution_count": 122,
   "id": "0cce4c69-c95c-46a2-b7ac-e7645e3d9e2b",
   "metadata": {},
   "outputs": [],
   "source": [
    "ma_wor_df = site_social_df[site_social_df['ServiceID'].isin(['WOR', 'MA-'])]\n",
    "ma_wor_df = ma_wor_df.merge(overlap_SocWebOverlap, on='PlaceID' , how='left')\n",
    "\n",
    "ma_wor_df = functions.sainsbury_formula(ma_wor_df, pop_size_col, ['WSC', 'WWW'], 'Reach')\n",
    "\n",
    "cols = ['YearGAE', 'w/c', 'ServiceID', 'PlaceID', 'Reach']\n",
    "weekly_ma_wor_df = ma_wor_df[cols]\n",
    "\n",
    "annual_ma_wor_df = ma_wor_df.groupby(['YearGAE', 'ServiceID', 'PlaceID'])['Reach'].sum().reset_index()\n",
    "annual_ma_wor_df['Reach'] = annual_ma_wor_df['Reach'] / gam_info['number_of_weeks'] \n"
   ]
  },
  {
   "cell_type": "markdown",
   "id": "c3b8fd7a-4890-4fd9-8970-842976630469",
   "metadata": {
    "jp-MarkdownHeadingCollapsed": true
   },
   "source": [
    "## aggregated services"
   ]
  },
  {
   "cell_type": "code",
   "execution_count": 123,
   "id": "aaed6071-f5da-4dee-b266-e60c284bc378",
   "metadata": {},
   "outputs": [
    {
     "data": {
      "text/html": [
       "<div>\n",
       "<style scoped>\n",
       "    .dataframe tbody tr th:only-of-type {\n",
       "        vertical-align: middle;\n",
       "    }\n",
       "\n",
       "    .dataframe tbody tr th {\n",
       "        vertical-align: top;\n",
       "    }\n",
       "\n",
       "    .dataframe thead th {\n",
       "        text-align: right;\n",
       "    }\n",
       "</style>\n",
       "<table border=\"1\" class=\"dataframe\">\n",
       "  <thead>\n",
       "    <tr style=\"text-align: right;\">\n",
       "      <th></th>\n",
       "      <th>YearGAE</th>\n",
       "      <th>w/c</th>\n",
       "      <th>ServiceID</th>\n",
       "      <th>PlaceID</th>\n",
       "      <th>Reach</th>\n",
       "    </tr>\n",
       "  </thead>\n",
       "  <tbody>\n",
       "    <tr>\n",
       "      <th>0</th>\n",
       "      <td>2025</td>\n",
       "      <td>2024-04-01</td>\n",
       "      <td>KYR</td>\n",
       "      <td>AFG</td>\n",
       "      <td>62.871421</td>\n",
       "    </tr>\n",
       "    <tr>\n",
       "      <th>1</th>\n",
       "      <td>2025</td>\n",
       "      <td>2024-04-01</td>\n",
       "      <td>KYR</td>\n",
       "      <td>ALB</td>\n",
       "      <td>8.228680</td>\n",
       "    </tr>\n",
       "    <tr>\n",
       "      <th>2</th>\n",
       "      <td>2025</td>\n",
       "      <td>2024-04-01</td>\n",
       "      <td>KYR</td>\n",
       "      <td>ALG</td>\n",
       "      <td>5.485787</td>\n",
       "    </tr>\n",
       "    <tr>\n",
       "      <th>3</th>\n",
       "      <td>2025</td>\n",
       "      <td>2024-04-01</td>\n",
       "      <td>KYR</td>\n",
       "      <td>ANG</td>\n",
       "      <td>1.249530</td>\n",
       "    </tr>\n",
       "    <tr>\n",
       "      <th>4</th>\n",
       "      <td>2025</td>\n",
       "      <td>2024-04-01</td>\n",
       "      <td>KYR</td>\n",
       "      <td>ANT</td>\n",
       "      <td>0.685723</td>\n",
       "    </tr>\n",
       "  </tbody>\n",
       "</table>\n",
       "</div>"
      ],
      "text/plain": [
       "   YearGAE        w/c ServiceID PlaceID      Reach\n",
       "0     2025 2024-04-01       KYR     AFG  62.871421\n",
       "1     2025 2024-04-01       KYR     ALB   8.228680\n",
       "2     2025 2024-04-01       KYR     ALG   5.485787\n",
       "3     2025 2024-04-01       KYR     ANG   1.249530\n",
       "4     2025 2024-04-01       KYR     ANT   0.685723"
      ]
     },
     "execution_count": 123,
     "metadata": {},
     "output_type": "execute_result"
    }
   ],
   "source": [
    "weekly_df = pd.concat([weekly_ws_df, weekly_ma_wor_df])\n",
    "#weekly_df = weekly_df.merge(country_codes, on='PlaceID', how='left')\n",
    "weekly_df.head()"
   ]
  },
  {
   "cell_type": "code",
   "execution_count": 124,
   "id": "97316944-816f-451e-a4ce-89125fd9e483",
   "metadata": {},
   "outputs": [],
   "source": [
    "def compute_combined_reach(df, services, label, pop_size_col, country_codes, deal_with_zero=True, \n",
    "                          calc_type='sainsbury'):\n",
    "    \"\"\"\n",
    "    Filters, merges, aggregates, and applies the Sainsbury formula to compute combined reach.\n",
    "\n",
    "    Parameters:\n",
    "    df (pd.DataFrame): Source DataFrame with weekly reach data.\n",
    "    services (list): List of ServiceIDs to include.\n",
    "    label (str): Label to assign to the resulting ServiceID.\n",
    "    pop_size_col (str): Column name for population size.\n",
    "    country_codes (pd.DataFrame): Mapping DataFrame for PlaceID enrichment.\n",
    "    deal_with_zero (bool): Whether to apply shortcut logic in the formula.\n",
    "\n",
    "    Returns:\n",
    "    pd.DataFrame: Aggregated and transformed DataFrame with combined reach.\n",
    "    \"\"\"\n",
    "    filtered_df = df[df['ServiceID'].isin(services)].merge(country_codes, on='PlaceID', how='left')\n",
    "    \n",
    "    pivot_df = pd.crosstab(\n",
    "        index=[filtered_df['PlaceID'], filtered_df[pop_size_col], \n",
    "               filtered_df['w/c'], filtered_df['YearGAE']],\n",
    "        columns=filtered_df['ServiceID'],\n",
    "        values=filtered_df['Reach'],\n",
    "        aggfunc='sum'\n",
    "    ).reset_index().fillna(0)\n",
    "\n",
    "    if calc_type == 'add':\n",
    "        pivot_df['Reach'] = pivot_df[services].sum(axis=1)\n",
    "    elif calc_type == 'sainsbury':\n",
    "        pivot_df = functions.sainsbury_formula(pivot_df, pop_size_col, services, \n",
    "                                               'Reach', deal_with_zero=deal_with_zero)\n",
    "        \n",
    "    else: \n",
    "        print('error')\n",
    "        \n",
    "    pivot_df['ServiceID'] = label\n",
    "    return pivot_df[['YearGAE', 'w/c', 'ServiceID', 'PlaceID', 'Reach']]"
   ]
  },
  {
   "cell_type": "markdown",
   "id": "0556a0a3-8fc0-48e0-89c2-84891c83e0b2",
   "metadata": {},
   "source": [
    "### ENW"
   ]
  },
  {
   "cell_type": "code",
   "execution_count": 125,
   "id": "313c7d0f-aa7b-4899-8563-ab8081fec3cf",
   "metadata": {},
   "outputs": [],
   "source": [
    "# Usage\n",
    "enw_services = ['FOA', 'WSE']\n",
    "enw_df = compute_combined_reach(weekly_df, enw_services, 'ENW', pop_size_col, country_codes)"
   ]
  },
  {
   "cell_type": "markdown",
   "id": "a46f95b7-bd37-4a65-9aeb-f3539e40588b",
   "metadata": {},
   "source": [
    "### ENG"
   ]
  },
  {
   "cell_type": "code",
   "execution_count": 126,
   "id": "addc2496-aea2-4e9c-8b02-54ee4f9ecd8b",
   "metadata": {
    "scrolled": true
   },
   "outputs": [],
   "source": [
    "# Usage\n",
    "eng_services = ['GNL', 'WSE']\n",
    "eng_df = compute_combined_reach(weekly_df, eng_services, 'ENG', pop_size_col, country_codes)"
   ]
  },
  {
   "cell_type": "markdown",
   "id": "a46feaa7-40f2-499a-ad6e-268300f77b4d",
   "metadata": {},
   "source": [
    "### EN2"
   ]
  },
  {
   "cell_type": "code",
   "execution_count": 127,
   "id": "6229c8b6-e7f5-406c-9c8b-7981f779e889",
   "metadata": {},
   "outputs": [],
   "source": [
    "\n",
    "en2_services = ['ENG', 'WOR']\n",
    "en2_df = compute_combined_reach(pd.concat([weekly_df, eng_df]), en2_services, 'EN2', pop_size_col, country_codes)\n"
   ]
  },
  {
   "cell_type": "markdown",
   "id": "2460173a-7dd4-41c3-b40f-174baa8cedd9",
   "metadata": {},
   "source": [
    "### AX2"
   ]
  },
  {
   "cell_type": "code",
   "execution_count": 129,
   "id": "dfa40621-da22-4523-8f33-8bcbe8895e9d",
   "metadata": {},
   "outputs": [
    {
     "name": "stderr",
     "output_type": "stream",
     "text": [
      "/var/folders/gz/pq5c3fbj5rs1tz_5w1hycq4h0000gn/T/ipykernel_56513/3509442960.py:31: SettingWithCopyWarning: \n",
      "A value is trying to be set on a copy of a slice from a DataFrame.\n",
      "Try using .loc[row_indexer,col_indexer] = value instead\n",
      "\n",
      "See the caveats in the documentation: https://pandas.pydata.org/pandas-docs/stable/user_guide/indexing.html#returning-a-view-versus-a-copy\n",
      "  africa_df['Reach'] = africa_df.apply(compute_value, axis=1)\n",
      "/Users/brunsd01/BBC Dropbox/Domi Bruns/Audience Insight/GAM 2025/7. GAM25_calculation/3 DigiGAM/code/functions.py:311: SettingWithCopyWarning: \n",
      "A value is trying to be set on a copy of a slice from a DataFrame.\n",
      "Try using .loc[row_indexer,col_indexer] = value instead\n",
      "\n",
      "See the caveats in the documentation: https://pandas.pydata.org/pandas-docs/stable/user_guide/indexing.html#returning-a-view-versus-a-copy\n",
      "  return (1 - product) * population\n"
     ]
    },
    {
     "data": {
      "text/html": [
       "<div>\n",
       "<style scoped>\n",
       "    .dataframe tbody tr th:only-of-type {\n",
       "        vertical-align: middle;\n",
       "    }\n",
       "\n",
       "    .dataframe tbody tr th {\n",
       "        vertical-align: top;\n",
       "    }\n",
       "\n",
       "    .dataframe thead th {\n",
       "        text-align: right;\n",
       "    }\n",
       "</style>\n",
       "<table border=\"1\" class=\"dataframe\">\n",
       "  <thead>\n",
       "    <tr style=\"text-align: right;\">\n",
       "      <th></th>\n",
       "      <th>YearGAE</th>\n",
       "      <th>w/c</th>\n",
       "      <th>ServiceID</th>\n",
       "      <th>PlaceID</th>\n",
       "      <th>Reach</th>\n",
       "    </tr>\n",
       "  </thead>\n",
       "  <tbody>\n",
       "    <tr>\n",
       "      <th>208</th>\n",
       "      <td>2025.0</td>\n",
       "      <td>2024-04-01</td>\n",
       "      <td>AX2</td>\n",
       "      <td>ALG</td>\n",
       "      <td>599239.801584</td>\n",
       "    </tr>\n",
       "    <tr>\n",
       "      <th>209</th>\n",
       "      <td>2025.0</td>\n",
       "      <td>2024-04-08</td>\n",
       "      <td>AX2</td>\n",
       "      <td>ALG</td>\n",
       "      <td>942941.354270</td>\n",
       "    </tr>\n",
       "    <tr>\n",
       "      <th>210</th>\n",
       "      <td>2025.0</td>\n",
       "      <td>2024-04-15</td>\n",
       "      <td>AX2</td>\n",
       "      <td>ALG</td>\n",
       "      <td>967883.807429</td>\n",
       "    </tr>\n",
       "    <tr>\n",
       "      <th>211</th>\n",
       "      <td>2025.0</td>\n",
       "      <td>2024-04-22</td>\n",
       "      <td>AX2</td>\n",
       "      <td>ALG</td>\n",
       "      <td>909775.307525</td>\n",
       "    </tr>\n",
       "    <tr>\n",
       "      <th>212</th>\n",
       "      <td>2025.0</td>\n",
       "      <td>2024-04-29</td>\n",
       "      <td>AX2</td>\n",
       "      <td>ALG</td>\n",
       "      <td>719608.722626</td>\n",
       "    </tr>\n",
       "  </tbody>\n",
       "</table>\n",
       "</div>"
      ],
      "text/plain": [
       "     YearGAE        w/c ServiceID PlaceID          Reach\n",
       "208   2025.0 2024-04-01       AX2     ALG  599239.801584\n",
       "209   2025.0 2024-04-08       AX2     ALG  942941.354270\n",
       "210   2025.0 2024-04-15       AX2     ALG  967883.807429\n",
       "211   2025.0 2024-04-22       AX2     ALG  909775.307525\n",
       "212   2025.0 2024-04-29       AX2     ALG  719608.722626"
      ]
     },
     "execution_count": 129,
     "metadata": {},
     "output_type": "execute_result"
    }
   ],
   "source": [
    "ax2_services = [\n",
    "    'AFA','AMH','ARA','AZE','BEN','BUR','DAR','ECH','ELT','PER','FRE','GUJ','HAU','HIN','IGB','INO',\n",
    "    'KOR','KRW','KYR','MAN','MAR','NEP','PAS','PDG','POR','PUN','RUS','SER','SIN','SOM','SPA','SWA',\n",
    "    'TAM','TEL','THA','TIG','TUR','UKR','URD','UZB','VIE','YOR', 'FOA', 'UKPS'\n",
    "]\n",
    "\n",
    "ax2_df = weekly_df[weekly_df['ServiceID'].isin(ax2_services)].merge(country_codes, on='PlaceID', how='left')\n",
    "ax2_df = pd.crosstab(\n",
    "                                        index = [ ax2_df['PlaceID'], \n",
    "                                                  ax2_df[pop_size_col], \n",
    "                                                  ax2_df['w/c'],\n",
    "                                                  ax2_df['YearGAE']],\n",
    "                                        columns = ax2_df['ServiceID'],\n",
    "                                        values =  ax2_df['Reach'],\n",
    "                                        aggfunc='sum'\n",
    "                                    ).reset_index()\n",
    "ax2_df = ax2_df.fillna(0)\n",
    "\n",
    "temp2 = ax2_df.merge(africa_dedup_countries, on='PlaceID', how='outer')\n",
    "africa_df = temp2[~temp2['digiGAM_FOA_WT-'].isna()]\n",
    "nonAfrica_df = temp2[temp2['digiGAM_FOA_WT-'].isna()]\n",
    "\n",
    "# Apply the logic row-wise\n",
    "def compute_value(row):\n",
    "    others_sum = sum(row.get(code, 0) for code in ax2_services)\n",
    "    if row['FOA'] > others_sum:\n",
    "        return row['FOA'] + 0.60745497 * others_sum\n",
    "    else:\n",
    "        return others_sum + row['FOA'] * 0.60745497\n",
    "\n",
    "africa_df['Reach'] = africa_df.apply(compute_value, axis=1)\n",
    "nonAfrica_df = functions.sainsbury_formula(nonAfrica_df, 'Population2020', ax2_services, 'Reach')\n",
    "ax2_df = pd.concat([africa_df, nonAfrica_df])\n",
    "ax2_df['ServiceID'] = 'AX2'\n",
    "ax2_df = ax2_df[['YearGAE', 'w/c', 'ServiceID', 'PlaceID', 'Reach']]\n",
    "\n",
    "ax2_df.head()"
   ]
  },
  {
   "cell_type": "markdown",
   "id": "7e0990b0-f0e7-427a-adbd-54ccc5ed3517",
   "metadata": {},
   "source": [
    "### ANW"
   ]
  },
  {
   "cell_type": "code",
   "execution_count": 130,
   "id": "5ff1238d-1934-4fd7-9c0e-9377a0d463c1",
   "metadata": {},
   "outputs": [],
   "source": [
    "\n",
    "anw_services = ['AX2', 'WSE']\n",
    "anw_df = compute_combined_reach(pd.concat([weekly_df, ax2_df]), anw_services, 'ANW', \n",
    "                                pop_size_col, country_codes)\n"
   ]
  },
  {
   "cell_type": "markdown",
   "id": "4732d233-bdca-49d2-a48d-a8aed4713154",
   "metadata": {},
   "source": [
    "### ANY"
   ]
  },
  {
   "cell_type": "code",
   "execution_count": 131,
   "id": "804fd81d-f7c7-4d58-959b-d8d5f9b282aa",
   "metadata": {},
   "outputs": [],
   "source": [
    "\n",
    "any_services = ['ANW', 'GNL']\n",
    "any_df = compute_combined_reach(pd.concat([weekly_df, anw_df]), any_services, 'ANY', \n",
    "                                pop_size_col, country_codes)\n"
   ]
  },
  {
   "cell_type": "markdown",
   "id": "96be9334-54f3-4a69-8c13-308d3a4ce76f",
   "metadata": {},
   "source": [
    "### TOT"
   ]
  },
  {
   "cell_type": "code",
   "execution_count": 132,
   "id": "fbde82b3-e4bc-4a9f-929e-9115af48ca69",
   "metadata": {},
   "outputs": [],
   "source": [
    "\n",
    "tot_services = ['ANY', 'MA-']\n",
    "tot_df = compute_combined_reach(pd.concat([weekly_df, any_df]), tot_services, 'TOT', \n",
    "                                pop_size_col, country_codes, calc_type='add')"
   ]
  },
  {
   "cell_type": "markdown",
   "id": "41b9b2f3-409b-47fd-9261-003ed31c592b",
   "metadata": {},
   "source": [
    "### ALL"
   ]
  },
  {
   "cell_type": "code",
   "execution_count": 133,
   "id": "210ce0ed-f723-4347-bb21-e3a36750e99d",
   "metadata": {},
   "outputs": [],
   "source": [
    "\n",
    "all_services = ['TOT', 'WOR']\n",
    "all_df = compute_combined_reach(pd.concat([weekly_df, tot_df]), all_services, 'ALL', \n",
    "                                pop_size_col, country_codes, calc_type='add')"
   ]
  },
  {
   "cell_type": "markdown",
   "id": "10d299b5-b766-4847-887d-9ee46e9e7591",
   "metadata": {
    "jp-MarkdownHeadingCollapsed": true
   },
   "source": [
    "## finalising "
   ]
  },
  {
   "cell_type": "code",
   "execution_count": 137,
   "id": "5b789061-c9e7-4be7-84d5-a594a7c89d6d",
   "metadata": {},
   "outputs": [],
   "source": [
    "final_weekly_df = pd.concat([weekly_ws_df, weekly_ma_wor_df, enw_df, eng_df, en2_df, ax2_df, anw_df,\n",
    "                     any_df, tot_df, all_df])\n",
    "\n",
    "final_weekly_df['PlatformID'] = 'CSS'\n",
    "\n",
    "final_weekly_df.to_csv(f\"../data/combinePlatforms/{gam_info['file_timeinfo']}_weekly_WT-.csv\", \n",
    "                       index=None)"
   ]
  },
  {
   "cell_type": "code",
   "execution_count": 141,
   "id": "39de69e0-fcf2-40f0-8085-ef0fab0a35a4",
   "metadata": {},
   "outputs": [],
   "source": [
    "final_annual_df = final_weekly_df.groupby(['YearGAE', 'ServiceID', 'PlatformID', 'PlaceID'])['Reach'].sum().reset_index()\n",
    "final_annual_df['Reach'] = final_annual_df['Reach'] / gam_info['number_of_weeks']\n",
    "\n",
    "final_annual_df.to_csv(f\"../data/combinePlatforms/{gam_info['file_timeinfo']}_annual_WT-.csv\", \n",
    "                       index=None)"
   ]
  },
  {
   "cell_type": "markdown",
   "id": "3efa39b7-eb44-4b7c-956f-64bb7c94a6e4",
   "metadata": {},
   "source": [
    "# combine platforms\n",
    "\n",
    "## import data"
   ]
  },
  {
   "cell_type": "code",
   "execution_count": 21,
   "id": "f09efa8b-3763-4ea1-aa38-1831238f7de4",
   "metadata": {},
   "outputs": [],
   "source": [
    "cols = ['YearGAE', 'ServiceID', 'PlatformID', 'PlaceID', 'Reach']"
   ]
  },
  {
   "cell_type": "code",
   "execution_count": 26,
   "id": "e895007e-7866-4b05-abd5-958b63ba82de",
   "metadata": {},
   "outputs": [
    {
     "data": {
      "text/html": [
       "<div>\n",
       "<style scoped>\n",
       "    .dataframe tbody tr th:only-of-type {\n",
       "        vertical-align: middle;\n",
       "    }\n",
       "\n",
       "    .dataframe tbody tr th {\n",
       "        vertical-align: top;\n",
       "    }\n",
       "\n",
       "    .dataframe thead th {\n",
       "        text-align: right;\n",
       "    }\n",
       "</style>\n",
       "<table border=\"1\" class=\"dataframe\">\n",
       "  <thead>\n",
       "    <tr style=\"text-align: right;\">\n",
       "      <th></th>\n",
       "      <th>YearGAE</th>\n",
       "      <th>ServiceID</th>\n",
       "      <th>PlatformID</th>\n",
       "      <th>PlaceID</th>\n",
       "      <th>Reach</th>\n",
       "    </tr>\n",
       "  </thead>\n",
       "  <tbody>\n",
       "    <tr>\n",
       "      <th>0</th>\n",
       "      <td>2025</td>\n",
       "      <td>ALL</td>\n",
       "      <td>DPO</td>\n",
       "      <td>AFG</td>\n",
       "      <td>1100.192308</td>\n",
       "    </tr>\n",
       "    <tr>\n",
       "      <th>1</th>\n",
       "      <td>2025</td>\n",
       "      <td>ALL</td>\n",
       "      <td>DPO</td>\n",
       "      <td>AGU</td>\n",
       "      <td>55.615385</td>\n",
       "    </tr>\n",
       "    <tr>\n",
       "      <th>2</th>\n",
       "      <td>2025</td>\n",
       "      <td>ALL</td>\n",
       "      <td>DPO</td>\n",
       "      <td>ALA</td>\n",
       "      <td>76.250000</td>\n",
       "    </tr>\n",
       "    <tr>\n",
       "      <th>3</th>\n",
       "      <td>2025</td>\n",
       "      <td>ALL</td>\n",
       "      <td>DPO</td>\n",
       "      <td>ALB</td>\n",
       "      <td>1381.211538</td>\n",
       "    </tr>\n",
       "    <tr>\n",
       "      <th>4</th>\n",
       "      <td>2025</td>\n",
       "      <td>ALL</td>\n",
       "      <td>DPO</td>\n",
       "      <td>ALG</td>\n",
       "      <td>6696.730769</td>\n",
       "    </tr>\n",
       "  </tbody>\n",
       "</table>\n",
       "</div>"
      ],
      "text/plain": [
       "   YearGAE ServiceID PlatformID PlaceID        Reach\n",
       "0     2025       ALL        DPO     AFG  1100.192308\n",
       "1     2025       ALL        DPO     AGU    55.615385\n",
       "2     2025       ALL        DPO     ALA    76.250000\n",
       "3     2025       ALL        DPO     ALB  1381.211538\n",
       "4     2025       ALL        DPO     ALG  6696.730769"
      ]
     },
     "execution_count": 26,
     "metadata": {},
     "output_type": "execute_result"
    }
   ],
   "source": [
    "podcast_df = pd.read_excel(\"../data/singlePlatform/output/GAM2025_podcast_reach_annual.xlsx\")\n",
    "podcast_df['YearGAE'] = gam_info['YearGAE']\n",
    "podcast_df = podcast_df[cols]\n",
    "podcast_df.head()"
   ]
  },
  {
   "cell_type": "code",
   "execution_count": 23,
   "id": "c4564e99-175d-4c70-aec7-af6d29aeb52e",
   "metadata": {},
   "outputs": [
    {
     "data": {
      "text/plain": [
       "Index(['YearGAE', 'ServiceID', 'PlatformID', 'PlaceID', 'Reach'], dtype='object')"
      ]
     },
     "execution_count": 23,
     "metadata": {},
     "output_type": "execute_result"
    }
   ],
   "source": [
    "site_df = pd.read_excel(\"../data/singlePlatform/output/GAM2025_site_reach_annual.xlsx\", index_col=0)\n",
    "site_df = site_df[cols]\n",
    "site_df.head()"
   ]
  },
  {
   "cell_type": "code",
   "execution_count": 24,
   "id": "9effd2e0-62a0-41a6-8af4-e24e41c54506",
   "metadata": {},
   "outputs": [
    {
     "data": {
      "text/html": [
       "<div>\n",
       "<style scoped>\n",
       "    .dataframe tbody tr th:only-of-type {\n",
       "        vertical-align: middle;\n",
       "    }\n",
       "\n",
       "    .dataframe tbody tr th {\n",
       "        vertical-align: top;\n",
       "    }\n",
       "\n",
       "    .dataframe thead th {\n",
       "        text-align: right;\n",
       "    }\n",
       "</style>\n",
       "<table border=\"1\" class=\"dataframe\">\n",
       "  <thead>\n",
       "    <tr style=\"text-align: right;\">\n",
       "      <th></th>\n",
       "      <th>YearGAE</th>\n",
       "      <th>ServiceID</th>\n",
       "      <th>PlatformID</th>\n",
       "      <th>PlaceID</th>\n",
       "      <th>Reach</th>\n",
       "    </tr>\n",
       "  </thead>\n",
       "  <tbody>\n",
       "    <tr>\n",
       "      <th>0</th>\n",
       "      <td>2025</td>\n",
       "      <td>AFA</td>\n",
       "      <td>WSC</td>\n",
       "      <td>AFG</td>\n",
       "      <td>315.009163</td>\n",
       "    </tr>\n",
       "    <tr>\n",
       "      <th>1</th>\n",
       "      <td>2025</td>\n",
       "      <td>ALL</td>\n",
       "      <td>WSC</td>\n",
       "      <td>AFG</td>\n",
       "      <td>812816.944793</td>\n",
       "    </tr>\n",
       "    <tr>\n",
       "      <th>2</th>\n",
       "      <td>2025</td>\n",
       "      <td>AMH</td>\n",
       "      <td>WSC</td>\n",
       "      <td>AFG</td>\n",
       "      <td>126.479997</td>\n",
       "    </tr>\n",
       "    <tr>\n",
       "      <th>3</th>\n",
       "      <td>2025</td>\n",
       "      <td>ANW</td>\n",
       "      <td>WSC</td>\n",
       "      <td>AFG</td>\n",
       "      <td>730843.560514</td>\n",
       "    </tr>\n",
       "    <tr>\n",
       "      <th>4</th>\n",
       "      <td>2025</td>\n",
       "      <td>ANY</td>\n",
       "      <td>WSC</td>\n",
       "      <td>AFG</td>\n",
       "      <td>806889.733922</td>\n",
       "    </tr>\n",
       "  </tbody>\n",
       "</table>\n",
       "</div>"
      ],
      "text/plain": [
       "   YearGAE ServiceID PlatformID PlaceID          Reach\n",
       "0     2025       AFA        WSC     AFG     315.009163\n",
       "1     2025       ALL        WSC     AFG  812816.944793\n",
       "2     2025       AMH        WSC     AFG     126.479997\n",
       "3     2025       ANW        WSC     AFG  730843.560514\n",
       "4     2025       ANY        WSC     AFG  806889.733922"
      ]
     },
     "execution_count": 24,
     "metadata": {},
     "output_type": "execute_result"
    }
   ],
   "source": [
    "# created from platform in 6.\n",
    "social_wsc_df = pd.read_csv(\"../data/interim/mk_wsc_social_data.csv\")\n",
    "social_wsc_df = social_wsc_df.rename(columns={\n",
    "    'Country Code': 'PlaceID',\n",
    "    'Platform Code': 'PlatformID',\n",
    "    'Service Code': 'ServiceID'\n",
    "})\n",
    "social_wsc_df['YearGAE'] = gam_info['YearGAE']\n",
    "social_wsc_df = social_wsc_df[cols]\n",
    "social_wsc_df.head()"
   ]
  },
  {
   "cell_type": "code",
   "execution_count": 25,
   "id": "c3e775bc-81f4-45b3-8de0-0a03e8cf5670",
   "metadata": {},
   "outputs": [
    {
     "data": {
      "text/html": [
       "<div>\n",
       "<style scoped>\n",
       "    .dataframe tbody tr th:only-of-type {\n",
       "        vertical-align: middle;\n",
       "    }\n",
       "\n",
       "    .dataframe tbody tr th {\n",
       "        vertical-align: top;\n",
       "    }\n",
       "\n",
       "    .dataframe thead th {\n",
       "        text-align: right;\n",
       "    }\n",
       "</style>\n",
       "<table border=\"1\" class=\"dataframe\">\n",
       "  <thead>\n",
       "    <tr style=\"text-align: right;\">\n",
       "      <th></th>\n",
       "      <th>YearGAE</th>\n",
       "      <th>ServiceID</th>\n",
       "      <th>PlatformID</th>\n",
       "      <th>PlaceID</th>\n",
       "      <th>Reach</th>\n",
       "    </tr>\n",
       "  </thead>\n",
       "  <tbody>\n",
       "    <tr>\n",
       "      <th>0</th>\n",
       "      <td>2025</td>\n",
       "      <td>ALL</td>\n",
       "      <td>TWI</td>\n",
       "      <td>AFG</td>\n",
       "      <td>12569.355007</td>\n",
       "    </tr>\n",
       "    <tr>\n",
       "      <th>1</th>\n",
       "      <td>2025</td>\n",
       "      <td>ANW</td>\n",
       "      <td>TWI</td>\n",
       "      <td>AFG</td>\n",
       "      <td>12569.355007</td>\n",
       "    </tr>\n",
       "    <tr>\n",
       "      <th>2</th>\n",
       "      <td>2025</td>\n",
       "      <td>ANY</td>\n",
       "      <td>TWI</td>\n",
       "      <td>AFG</td>\n",
       "      <td>12569.355007</td>\n",
       "    </tr>\n",
       "    <tr>\n",
       "      <th>3</th>\n",
       "      <td>2025</td>\n",
       "      <td>AX2</td>\n",
       "      <td>TWI</td>\n",
       "      <td>AFG</td>\n",
       "      <td>12569.355007</td>\n",
       "    </tr>\n",
       "    <tr>\n",
       "      <th>4</th>\n",
       "      <td>2025</td>\n",
       "      <td>AXE</td>\n",
       "      <td>TWI</td>\n",
       "      <td>AFG</td>\n",
       "      <td>12569.355007</td>\n",
       "    </tr>\n",
       "  </tbody>\n",
       "</table>\n",
       "</div>"
      ],
      "text/plain": [
       "   YearGAE ServiceID PlatformID PlaceID         Reach\n",
       "0     2025       ALL        TWI     AFG  12569.355007\n",
       "1     2025       ANW        TWI     AFG  12569.355007\n",
       "2     2025       ANY        TWI     AFG  12569.355007\n",
       "3     2025       AX2        TWI     AFG  12569.355007\n",
       "4     2025       AXE        TWI     AFG  12569.355007"
      ]
     },
     "execution_count": 25,
     "metadata": {},
     "output_type": "execute_result"
    }
   ],
   "source": [
    "# created from dataset per platform file in 5.\n",
    "social_platforms_df = pd.read_csv(\"../data/interim/mk_platforms_social_data.csv\")\n",
    "social_platforms_df = social_platforms_df[cols]\n",
    "social_platforms_df.head()"
   ]
  },
  {
   "cell_type": "code",
   "execution_count": 42,
   "id": "65882c72-9ec4-4643-a529-3ab49e09d735",
   "metadata": {},
   "outputs": [
    {
     "data": {
      "text/html": [
       "<div>\n",
       "<style scoped>\n",
       "    .dataframe tbody tr th:only-of-type {\n",
       "        vertical-align: middle;\n",
       "    }\n",
       "\n",
       "    .dataframe tbody tr th {\n",
       "        vertical-align: top;\n",
       "    }\n",
       "\n",
       "    .dataframe thead th {\n",
       "        text-align: right;\n",
       "    }\n",
       "</style>\n",
       "<table border=\"1\" class=\"dataframe\">\n",
       "  <thead>\n",
       "    <tr style=\"text-align: right;\">\n",
       "      <th></th>\n",
       "      <th>YearGAE</th>\n",
       "      <th>ServiceID</th>\n",
       "      <th>PlatformID</th>\n",
       "      <th>PlaceID</th>\n",
       "      <th>Reach</th>\n",
       "    </tr>\n",
       "  </thead>\n",
       "  <tbody>\n",
       "    <tr>\n",
       "      <th>0</th>\n",
       "      <td>2025</td>\n",
       "      <td>AFA</td>\n",
       "      <td>CSS</td>\n",
       "      <td>AFG</td>\n",
       "      <td>317.719140</td>\n",
       "    </tr>\n",
       "    <tr>\n",
       "      <th>1</th>\n",
       "      <td>2025</td>\n",
       "      <td>AMH</td>\n",
       "      <td>CSS</td>\n",
       "      <td>AFG</td>\n",
       "      <td>126.965056</td>\n",
       "    </tr>\n",
       "    <tr>\n",
       "      <th>2</th>\n",
       "      <td>2025</td>\n",
       "      <td>ARA</td>\n",
       "      <td>CSS</td>\n",
       "      <td>AFG</td>\n",
       "      <td>7238.286464</td>\n",
       "    </tr>\n",
       "    <tr>\n",
       "      <th>3</th>\n",
       "      <td>2025</td>\n",
       "      <td>AZE</td>\n",
       "      <td>CSS</td>\n",
       "      <td>AFG</td>\n",
       "      <td>209.681125</td>\n",
       "    </tr>\n",
       "    <tr>\n",
       "      <th>4</th>\n",
       "      <td>2025</td>\n",
       "      <td>BEN</td>\n",
       "      <td>CSS</td>\n",
       "      <td>AFG</td>\n",
       "      <td>1267.685458</td>\n",
       "    </tr>\n",
       "  </tbody>\n",
       "</table>\n",
       "</div>"
      ],
      "text/plain": [
       "   YearGAE ServiceID PlatformID PlaceID        Reach\n",
       "0     2025       AFA        CSS     AFG   317.719140\n",
       "1     2025       AMH        CSS     AFG   126.965056\n",
       "2     2025       ARA        CSS     AFG  7238.286464\n",
       "3     2025       AZE        CSS     AFG   209.681125\n",
       "4     2025       BEN        CSS     AFG  1267.685458"
      ]
     },
     "execution_count": 42,
     "metadata": {},
     "output_type": "execute_result"
    }
   ],
   "source": [
    "wt_df = pd.read_csv(f\"../data/combinePlatforms/{gam_info['file_timeinfo']}_annual_WT-.csv\")[cols]\n",
    "wt_df.head()"
   ]
  },
  {
   "cell_type": "markdown",
   "id": "4c5b160b-4f05-4cc8-952b-27cf702e5fd1",
   "metadata": {},
   "source": [
    "# combine "
   ]
  },
  {
   "cell_type": "code",
   "execution_count": 43,
   "id": "e1d067b3-b34a-40eb-b4e1-97764ac2038e",
   "metadata": {
    "scrolled": true
   },
   "outputs": [
    {
     "name": "stdout",
     "output_type": "stream",
     "text": [
      "\n",
      "pod\n"
     ]
    },
    {
     "data": {
      "text/plain": [
       "ServiceID\n",
       "PER    368\n",
       "Name: count, dtype: int64"
      ]
     },
     "metadata": {},
     "output_type": "display_data"
    },
    {
     "data": {
      "text/plain": [
       "ServiceID\n",
       "PER    368\n",
       "Name: count, dtype: int64"
      ]
     },
     "metadata": {},
     "output_type": "display_data"
    },
    {
     "name": "stdout",
     "output_type": "stream",
     "text": [
      "\n",
      "site\n"
     ]
    },
    {
     "data": {
      "text/plain": [
       "ServiceID\n",
       "PER    518\n",
       "Name: count, dtype: int64"
      ]
     },
     "metadata": {},
     "output_type": "display_data"
    },
    {
     "data": {
      "text/plain": [
       "ServiceID\n",
       "PER    518\n",
       "Name: count, dtype: int64"
      ]
     },
     "metadata": {},
     "output_type": "display_data"
    },
    {
     "name": "stdout",
     "output_type": "stream",
     "text": [
      "\n",
      "platform\n"
     ]
    },
    {
     "data": {
      "text/plain": [
       "ServiceID\n",
       "PER    342\n",
       "Name: count, dtype: int64"
      ]
     },
     "metadata": {},
     "output_type": "display_data"
    },
    {
     "data": {
      "text/plain": [
       "ServiceID\n",
       "PER    342\n",
       "Name: count, dtype: int64"
      ]
     },
     "metadata": {},
     "output_type": "display_data"
    },
    {
     "name": "stdout",
     "output_type": "stream",
     "text": [
      "\n",
      "wsc\n"
     ]
    },
    {
     "data": {
      "text/plain": [
       "ServiceID\n",
       "PER    232\n",
       "Name: count, dtype: int64"
      ]
     },
     "metadata": {},
     "output_type": "display_data"
    },
    {
     "data": {
      "text/plain": [
       "ServiceID\n",
       "PER    232\n",
       "Name: count, dtype: int64"
      ]
     },
     "metadata": {},
     "output_type": "display_data"
    },
    {
     "name": "stdout",
     "output_type": "stream",
     "text": [
      "\n",
      "wt\n"
     ]
    },
    {
     "data": {
      "text/plain": [
       "ServiceID\n",
       "FAR    233\n",
       "Name: count, dtype: int64"
      ]
     },
     "metadata": {},
     "output_type": "display_data"
    },
    {
     "data": {
      "text/plain": [
       "ServiceID\n",
       "PER    233\n",
       "Name: count, dtype: int64"
      ]
     },
     "metadata": {},
     "output_type": "display_data"
    },
    {
     "data": {
      "text/plain": [
       "(82695, 5)"
      ]
     },
     "execution_count": 43,
     "metadata": {},
     "output_type": "execute_result"
    }
   ],
   "source": [
    "sources = {'pod': podcast_df, \n",
    "           'site': site_df, \n",
    "           'platform': social_platforms_df, \n",
    "           'wsc': social_wsc_df,\n",
    "           'wt': wt_df}\n",
    "\n",
    "def far_per_test(df):\n",
    "    temp = df[df['ServiceID'].isin(['PER', 'FAR'])]\n",
    "    display(temp.ServiceID.value_counts())\n",
    "    if len(temp) > 0:\n",
    "        df['ServiceID'] = df['ServiceID'].replace('FAR', 'PER')\n",
    "    temp = df[df['ServiceID'].isin(['PER', 'FAR'])]\n",
    "    display(temp.ServiceID.value_counts())\n",
    "    return df\n",
    "\n",
    "for name, source in sources.items():\n",
    "    print(f\"\\n{name}\")\n",
    "    sources[name] = far_per_test(source)\n",
    "\n",
    "digital_df = pd.concat(sources.values())\n",
    "\n",
    "digital_df = digital_df[digital_df['ServiceID'] != 'AXE']\n"
   ]
  },
  {
   "cell_type": "markdown",
   "id": "d38bda41-d309-4c8b-9014-3669cede8f5d",
   "metadata": {},
   "source": [
    "# store"
   ]
  },
  {
   "cell_type": "code",
   "execution_count": 49,
   "id": "d7a1b7e2-3e27-45f4-9680-3755fc140b81",
   "metadata": {},
   "outputs": [],
   "source": [
    "digital_df.to_csv(f\"../data/combinePlatforms/{gam_info['file_timeinfo']}_digital_gam.csv\")"
   ]
  }
 ],
 "metadata": {
  "kernelspec": {
   "display_name": "Python (gamSessionAutomation)",
   "language": "python",
   "name": "venv_gamsessionautomation"
  },
  "language_info": {
   "codemirror_mode": {
    "name": "ipython",
    "version": 3
   },
   "file_extension": ".py",
   "mimetype": "text/x-python",
   "name": "python",
   "nbconvert_exporter": "python",
   "pygments_lexer": "ipython3",
   "version": "3.11.3"
  }
 },
 "nbformat": 4,
 "nbformat_minor": 5
}
